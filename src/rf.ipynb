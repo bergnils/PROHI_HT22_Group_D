{
 "cells": [
  {
   "cell_type": "code",
   "execution_count": 224,
   "id": "a31346ad-9b16-484c-b725-25c26e01a108",
   "metadata": {},
   "outputs": [],
   "source": [
    "# Import libraries to be used.\n",
    "import numpy as np\n",
    "import pandas as pd\n",
    "import matplotlib.pyplot as plt"
   ]
  },
  {
   "cell_type": "code",
   "execution_count": 225,
   "id": "d2b57857-ccb0-4c3f-8a01-ea36b0613f3d",
   "metadata": {},
   "outputs": [],
   "source": [
    "# Define a random state value\n",
    "RANDOM_STATE = 3030"
   ]
  },
  {
   "cell_type": "code",
   "execution_count": 226,
   "id": "ce310c23-20bb-4b6c-b228-0b3f10590f8e",
   "metadata": {},
   "outputs": [],
   "source": [
    "# Define column names which will be used instead of the ones in the datasets.\n",
    "column_names = [\n",
    "    \"age\", \"sex\", \"chest_pain_type\", \"rest_bp\", \"cholesterol\",\n",
    "    \"fasting_bs\", \"resting_ecg\", \"max_hr\", \"exercise_angina\", \"st_exercise_depression\",\n",
    "    \"st_exercise_slope\", \"major_vessels_fluorospy\", \"thal\", \"angiographic_disease\"\n",
    "]\n",
    "na_values = [\"?\"] # Define what values will be interpreted as missing values, in this dataset the \"?\" character is used for this.\n",
    "\n",
    "# Load all datasets using relative paths and combine into one dataframe.\n",
    "df = pd.concat([\n",
    "    pd.read_csv(\"../data/processed.cleveland.data\", names=column_names, na_values=na_values),\n",
    "    pd.read_csv(\"../data/processed.hungarian.data\", names=column_names, na_values=na_values),\n",
    "    pd.read_csv(\"../data/processed.switzerland.data\", names=column_names, na_values=na_values),\n",
    "    pd.read_csv(\"../data/processed.va.data\", names=column_names, na_values=na_values)\n",
    "]).drop(['st_exercise_slope', 'major_vessels_fluorospy', 'thal'], axis=1)"
   ]
  },
  {
   "cell_type": "code",
   "execution_count": 227,
   "id": "5bb7a6d0-4750-4c64-9c1b-09fa300cc75d",
   "metadata": {},
   "outputs": [],
   "source": [
    "df[df[\"angiographic_disease\"] > 1] = 1"
   ]
  },
  {
   "cell_type": "code",
   "execution_count": 228,
   "id": "09c6f548-f1e0-45ae-a1bc-75e421dbf3db",
   "metadata": {},
   "outputs": [],
   "source": [
    "df['age'].fillna((df['age'].mean()), inplace=True)\n",
    "df['rest_bp'].fillna((df['rest_bp'].mean()), inplace=True)\n",
    "df['cholesterol'].fillna((df['cholesterol'].mean()), inplace=True)\n",
    "df['max_hr'].fillna((df['max_hr'].mean()), inplace=True)\n",
    "df['st_exercise_depression'].fillna((df['st_exercise_depression'].mean()), inplace=True)\n",
    "df = df.apply(lambda x:x.fillna(x.value_counts().index[0]))"
   ]
  },
  {
   "cell_type": "code",
   "execution_count": 229,
   "id": "4d99865f-f2cd-4240-ad32-c210a914c7fa",
   "metadata": {},
   "outputs": [],
   "source": [
    "# Set category attributes\n",
    "df[\"sex\"] = df[\"sex\"].astype(\"category\")\n",
    "df[\"chest_pain_type\"] = df[\"chest_pain_type\"].astype(\"category\")\n",
    "df[\"fasting_bs\"] = df[\"fasting_bs\"].astype(\"category\")\n",
    "df[\"resting_ecg\"] = df[\"resting_ecg\"].astype(\"category\")\n",
    "df[\"exercise_angina\"] = df[\"exercise_angina\"].astype(\"category\")\n",
    "df[\"angiographic_disease\"] = df[\"angiographic_disease\"].astype(\"category\")"
   ]
  },
  {
   "cell_type": "code",
   "execution_count": 230,
   "id": "c47819d9-27b8-4759-8590-0dd3db25fb9c",
   "metadata": {},
   "outputs": [],
   "source": [
    "df_X = df.drop([\"angiographic_disease\"], axis=1)"
   ]
  },
  {
   "cell_type": "code",
   "execution_count": 231,
   "id": "115342ab-e2d7-4577-bb41-e7354abefce3",
   "metadata": {},
   "outputs": [
    {
     "data": {
      "text/html": [
       "<div>\n",
       "<style scoped>\n",
       "    .dataframe tbody tr th:only-of-type {\n",
       "        vertical-align: middle;\n",
       "    }\n",
       "\n",
       "    .dataframe tbody tr th {\n",
       "        vertical-align: top;\n",
       "    }\n",
       "\n",
       "    .dataframe thead th {\n",
       "        text-align: right;\n",
       "    }\n",
       "</style>\n",
       "<table border=\"1\" class=\"dataframe\">\n",
       "  <thead>\n",
       "    <tr style=\"text-align: right;\">\n",
       "      <th></th>\n",
       "      <th>age</th>\n",
       "      <th>sex</th>\n",
       "      <th>chest_pain_type</th>\n",
       "      <th>rest_bp</th>\n",
       "      <th>cholesterol</th>\n",
       "      <th>fasting_bs</th>\n",
       "      <th>resting_ecg</th>\n",
       "      <th>max_hr</th>\n",
       "      <th>exercise_angina</th>\n",
       "      <th>st_exercise_depression</th>\n",
       "    </tr>\n",
       "  </thead>\n",
       "  <tbody>\n",
       "    <tr>\n",
       "      <th>0</th>\n",
       "      <td>63.0</td>\n",
       "      <td>1.0</td>\n",
       "      <td>1.0</td>\n",
       "      <td>145.0</td>\n",
       "      <td>233.0</td>\n",
       "      <td>1.0</td>\n",
       "      <td>2.0</td>\n",
       "      <td>150.0</td>\n",
       "      <td>0.0</td>\n",
       "      <td>2.3</td>\n",
       "    </tr>\n",
       "    <tr>\n",
       "      <th>1</th>\n",
       "      <td>1.0</td>\n",
       "      <td>1.0</td>\n",
       "      <td>1.0</td>\n",
       "      <td>1.0</td>\n",
       "      <td>1.0</td>\n",
       "      <td>1.0</td>\n",
       "      <td>1.0</td>\n",
       "      <td>1.0</td>\n",
       "      <td>1.0</td>\n",
       "      <td>1.0</td>\n",
       "    </tr>\n",
       "    <tr>\n",
       "      <th>2</th>\n",
       "      <td>67.0</td>\n",
       "      <td>1.0</td>\n",
       "      <td>4.0</td>\n",
       "      <td>120.0</td>\n",
       "      <td>229.0</td>\n",
       "      <td>0.0</td>\n",
       "      <td>2.0</td>\n",
       "      <td>129.0</td>\n",
       "      <td>1.0</td>\n",
       "      <td>2.6</td>\n",
       "    </tr>\n",
       "    <tr>\n",
       "      <th>3</th>\n",
       "      <td>37.0</td>\n",
       "      <td>1.0</td>\n",
       "      <td>3.0</td>\n",
       "      <td>130.0</td>\n",
       "      <td>250.0</td>\n",
       "      <td>0.0</td>\n",
       "      <td>0.0</td>\n",
       "      <td>187.0</td>\n",
       "      <td>0.0</td>\n",
       "      <td>3.5</td>\n",
       "    </tr>\n",
       "    <tr>\n",
       "      <th>4</th>\n",
       "      <td>41.0</td>\n",
       "      <td>0.0</td>\n",
       "      <td>2.0</td>\n",
       "      <td>130.0</td>\n",
       "      <td>204.0</td>\n",
       "      <td>0.0</td>\n",
       "      <td>2.0</td>\n",
       "      <td>172.0</td>\n",
       "      <td>0.0</td>\n",
       "      <td>1.4</td>\n",
       "    </tr>\n",
       "  </tbody>\n",
       "</table>\n",
       "</div>"
      ],
      "text/plain": [
       "    age  sex chest_pain_type  rest_bp  cholesterol fasting_bs resting_ecg  \\\n",
       "0  63.0  1.0             1.0    145.0        233.0        1.0         2.0   \n",
       "1   1.0  1.0             1.0      1.0          1.0        1.0         1.0   \n",
       "2  67.0  1.0             4.0    120.0        229.0        0.0         2.0   \n",
       "3  37.0  1.0             3.0    130.0        250.0        0.0         0.0   \n",
       "4  41.0  0.0             2.0    130.0        204.0        0.0         2.0   \n",
       "\n",
       "   max_hr exercise_angina  st_exercise_depression  \n",
       "0   150.0             0.0                     2.3  \n",
       "1     1.0             1.0                     1.0  \n",
       "2   129.0             1.0                     2.6  \n",
       "3   187.0             0.0                     3.5  \n",
       "4   172.0             0.0                     1.4  "
      ]
     },
     "execution_count": 231,
     "metadata": {},
     "output_type": "execute_result"
    }
   ],
   "source": [
    "df_X.head()"
   ]
  },
  {
   "cell_type": "code",
   "execution_count": 232,
   "id": "abc2f7d1-d3de-4a0b-88f9-4721ac282304",
   "metadata": {},
   "outputs": [],
   "source": [
    "from sklearn.preprocessing import MinMaxScaler"
   ]
  },
  {
   "cell_type": "code",
   "execution_count": 233,
   "id": "26f089cf-791a-4b50-a757-e27de170a592",
   "metadata": {},
   "outputs": [],
   "source": [
    "X = MinMaxScaler().fit_transform(df_X.to_numpy())\n",
    "y = df[\"angiographic_disease\"].to_numpy()"
   ]
  },
  {
   "cell_type": "code",
   "execution_count": 234,
   "id": "27b5d96b-886a-4d41-87f8-347684323224",
   "metadata": {},
   "outputs": [
    {
     "data": {
      "text/plain": [
       "(920, 10)"
      ]
     },
     "execution_count": 234,
     "metadata": {},
     "output_type": "execute_result"
    }
   ],
   "source": [
    "X.shape"
   ]
  },
  {
   "cell_type": "code",
   "execution_count": 235,
   "id": "cda0a919-1187-4f77-97a2-51ef79180c37",
   "metadata": {},
   "outputs": [
    {
     "data": {
      "text/plain": [
       "(920,)"
      ]
     },
     "execution_count": 235,
     "metadata": {},
     "output_type": "execute_result"
    }
   ],
   "source": [
    "y.shape"
   ]
  },
  {
   "cell_type": "markdown",
   "id": "9e5169d5-f735-49e6-aacc-26dd9082e017",
   "metadata": {},
   "source": [
    "### Train-test partitioning"
   ]
  },
  {
   "cell_type": "code",
   "execution_count": 238,
   "id": "e743165c-7d9f-4bfa-a50d-09ff3bbec8c9",
   "metadata": {},
   "outputs": [],
   "source": [
    "from sklearn.model_selection import train_test_split\n",
    "\n",
    "X_train, X_test, y_train, y_test = train_test_split(X, y, test_size=0.2, random_state=RANDOM_STATE)"
   ]
  },
  {
   "cell_type": "markdown",
   "id": "287d24ad-3dc1-4a60-8110-f325ad778bd2",
   "metadata": {},
   "source": [
    "### Implementing Random Forest (RF)"
   ]
  },
  {
   "cell_type": "code",
   "execution_count": 241,
   "id": "6ce394c8-8bbf-4ef7-993c-544d9267330f",
   "metadata": {},
   "outputs": [
    {
     "name": "stdout",
     "output_type": "stream",
     "text": [
      "According to the RF classifier, the class labels in the test set are:  [0 1 0 0 0 0 0 1 1 1 1 1 1 1 0 0 0 0 1 0 1 1 1 0 0 0 1 1 0 1 1 1 1 1 0 0 0\n",
      " 0 1 1 1 0 0 1 1 1 1 0 1 0 1 1 0 1 1 1 0 0 0 1 1 1 0 0 1 1 0 0 0 0 1 0 0 1\n",
      " 0 1 1 0 0 1 1 1 0 1 1 0 0 0 0 0 0 0 1 0 0 0 1 0 1 0 0 1 1 1 1 0 1 1 0 1 0\n",
      " 0 1 1 0 1 0 0 0 1 0 1 0 1 0 1 0 1 0 1 0 1 1 1 0 0 1 0 0 1 0 0 0 1 1 1 0 0\n",
      " 1 0 1 1 0 0 1 1 1 1 1 1 1 0 0 0 0 1 0 1 0 0 1 0 1 1 1 0 1 1 1 1 0 0 1 0]\n",
      "The elapsed time of the function is 0.03447318077087402 seconds\n",
      "0.9904891304347826\n",
      "0.8260869565217391\n"
     ]
    }
   ],
   "source": [
    "import time\n",
    "from sklearn.ensemble import RandomForestClassifier\n",
    "from sklearn.naive_bayes import GaussianNB\n",
    "t_start = time.time()\n",
    "\n",
    "rf_classifier = RandomForestClassifier(n_estimators=10, max_depth=None, criterion=\"entropy\")\n",
    "rf_classifier.fit(X_train, y_train) # training set, training labels\n",
    "y_predicted = rf_classifier.predict(X_test)\n",
    "\n",
    "print(\"According to the RF classifier, the class labels in the test set are: \", y_predicted)\n",
    "\n",
    "# At the end we calculate the end time\n",
    "t_end = time.time()\n",
    "t_elapsed = t_end - t_start\n",
    "\n",
    "print(f\"The elapsed time of the function is {t_elapsed} seconds\")\n",
    "print (rf_classifier.score(X_train, y_train))\n",
    "print(rf_classifier.score(X_test, y_test))"
   ]
  },
  {
   "cell_type": "markdown",
   "id": "f2c78a3a-2b60-4e56-af40-136328883298",
   "metadata": {},
   "source": [
    "The model scores close to 100% accuracy on the training data and a lower 83% on the testing data. Since the training accuracy is so high and the testing is not as close, it’s safe to say the model is overfitting—the model is modeling the training data too well and not generalizing what it’s learning. "
   ]
  },
  {
   "cell_type": "markdown",
   "id": "985acbae-2789-440e-8572-9be9af15e443",
   "metadata": {},
   "source": [
    "### Tuning the Random Forest"
   ]
  },
  {
   "cell_type": "markdown",
   "id": "96f0b8f5-a0b1-453e-881a-552d8ac4c0e4",
   "metadata": {},
   "source": [
    "The parameters to be tuned can be found in the sklearn documentation. One way to tune these parameters is to perform a random grid search. We define a range of values from which the code can randomly pick and choose until it finds a set that performs the best. To begin we define values the search algorithm will search through."
   ]
  },
  {
   "cell_type": "code",
   "execution_count": 243,
   "id": "74fd6a57-6ec3-44ba-826a-be772aad88d9",
   "metadata": {},
   "outputs": [],
   "source": [
    "# Number of trees in random forest\n",
    "n_estimators = np.linspace(100, 3000, int((3000-100)/200) + 1, dtype=int)\n",
    "# Number of features to consider at every split\n",
    "max_features = ['auto', 'sqrt']\n",
    "# Maximum number of levels in tree\n",
    "max_depth = [1, 5, 10, 20, 50, 75, 100, 150, 200]\n",
    "# Minimum number of samples required to split a node\n",
    "# min_samples_split = [int(x) for x in np.linspace(start = 2, stop = 10, num = 9)]\n",
    "min_samples_split = [1, 2, 5, 10, 15, 20, 30]\n",
    "# Minimum number of samples required at each leaf node\n",
    "min_samples_leaf = [1, 2, 3, 4]\n",
    "# Method of selecting samples for training each tree\n",
    "bootstrap = [True, False]\n",
    "# Criterion\n",
    "criterion=['gini', 'entropy']\n",
    "random_grid = {'n_estimators': n_estimators,\n",
    "#                'max_features': max_features,\n",
    "               'max_depth': max_depth,\n",
    "               'min_samples_split': min_samples_split,\n",
    "               'min_samples_leaf': min_samples_leaf,\n",
    "               'bootstrap': bootstrap,\n",
    "               'criterion': criterion}"
   ]
  },
  {
   "cell_type": "code",
   "execution_count": 244,
   "id": "0519ffa4-88b0-4ea6-bdc7-5f60a04a7632",
   "metadata": {},
   "outputs": [
    {
     "name": "stdout",
     "output_type": "stream",
     "text": [
      "Fitting 5 folds for each of 30 candidates, totalling 150 fits\n"
     ]
    },
    {
     "name": "stderr",
     "output_type": "stream",
     "text": [
      "/opt/anaconda3/lib/python3.9/site-packages/sklearn/model_selection/_validation.py:378: FitFailedWarning: \n",
      "15 fits failed out of a total of 150.\n",
      "The score on these train-test partitions for these parameters will be set to nan.\n",
      "If these failures are not expected, you can try to debug them by setting error_score='raise'.\n",
      "\n",
      "Below are more details about the failures:\n",
      "--------------------------------------------------------------------------------\n",
      "15 fits failed with the following error:\n",
      "Traceback (most recent call last):\n",
      "  File \"/opt/anaconda3/lib/python3.9/site-packages/sklearn/model_selection/_validation.py\", line 686, in _fit_and_score\n",
      "    estimator.fit(X_train, y_train, **fit_params)\n",
      "  File \"/opt/anaconda3/lib/python3.9/site-packages/sklearn/ensemble/_forest.py\", line 476, in fit\n",
      "    trees = Parallel(\n",
      "  File \"/opt/anaconda3/lib/python3.9/site-packages/joblib/parallel.py\", line 1043, in __call__\n",
      "    if self.dispatch_one_batch(iterator):\n",
      "  File \"/opt/anaconda3/lib/python3.9/site-packages/joblib/parallel.py\", line 861, in dispatch_one_batch\n",
      "    self._dispatch(tasks)\n",
      "  File \"/opt/anaconda3/lib/python3.9/site-packages/joblib/parallel.py\", line 779, in _dispatch\n",
      "    job = self._backend.apply_async(batch, callback=cb)\n",
      "  File \"/opt/anaconda3/lib/python3.9/site-packages/joblib/_parallel_backends.py\", line 208, in apply_async\n",
      "    result = ImmediateResult(func)\n",
      "  File \"/opt/anaconda3/lib/python3.9/site-packages/joblib/_parallel_backends.py\", line 572, in __init__\n",
      "    self.results = batch()\n",
      "  File \"/opt/anaconda3/lib/python3.9/site-packages/joblib/parallel.py\", line 262, in __call__\n",
      "    return [func(*args, **kwargs)\n",
      "  File \"/opt/anaconda3/lib/python3.9/site-packages/joblib/parallel.py\", line 262, in <listcomp>\n",
      "    return [func(*args, **kwargs)\n",
      "  File \"/opt/anaconda3/lib/python3.9/site-packages/sklearn/utils/fixes.py\", line 117, in __call__\n",
      "    return self.function(*args, **kwargs)\n",
      "  File \"/opt/anaconda3/lib/python3.9/site-packages/sklearn/ensemble/_forest.py\", line 189, in _parallel_build_trees\n",
      "    tree.fit(X, y, sample_weight=curr_sample_weight, check_input=False)\n",
      "  File \"/opt/anaconda3/lib/python3.9/site-packages/sklearn/tree/_classes.py\", line 969, in fit\n",
      "    super().fit(\n",
      "  File \"/opt/anaconda3/lib/python3.9/site-packages/sklearn/tree/_classes.py\", line 265, in fit\n",
      "    check_scalar(\n",
      "  File \"/opt/anaconda3/lib/python3.9/site-packages/sklearn/utils/validation.py\", line 1480, in check_scalar\n",
      "    raise ValueError(\n",
      "ValueError: min_samples_split == 1, must be >= 2.\n",
      "\n",
      "  warnings.warn(some_fits_failed_message, FitFailedWarning)\n",
      "/opt/anaconda3/lib/python3.9/site-packages/sklearn/model_selection/_search.py:953: UserWarning: One or more of the test scores are non-finite: [0.83557639 0.83148557 0.83693694 0.83421585 0.83828829 0.85052399\n",
      " 0.8328553  0.84237911 0.84102776 0.84373966 0.83012502 0.85323589\n",
      "        nan 0.82470123 0.74726972 0.74726972 0.83150395 0.8505148\n",
      "        nan 0.8478121  0.82877367 0.83692774 0.83694613 0.84102776\n",
      " 0.8478121         nan 0.84508182 0.84238831 0.85188454 0.82878286]\n",
      "  warnings.warn(\n"
     ]
    },
    {
     "data": {
      "text/html": [
       "<style>#sk-container-id-2 {color: black;background-color: white;}#sk-container-id-2 pre{padding: 0;}#sk-container-id-2 div.sk-toggleable {background-color: white;}#sk-container-id-2 label.sk-toggleable__label {cursor: pointer;display: block;width: 100%;margin-bottom: 0;padding: 0.3em;box-sizing: border-box;text-align: center;}#sk-container-id-2 label.sk-toggleable__label-arrow:before {content: \"▸\";float: left;margin-right: 0.25em;color: #696969;}#sk-container-id-2 label.sk-toggleable__label-arrow:hover:before {color: black;}#sk-container-id-2 div.sk-estimator:hover label.sk-toggleable__label-arrow:before {color: black;}#sk-container-id-2 div.sk-toggleable__content {max-height: 0;max-width: 0;overflow: hidden;text-align: left;background-color: #f0f8ff;}#sk-container-id-2 div.sk-toggleable__content pre {margin: 0.2em;color: black;border-radius: 0.25em;background-color: #f0f8ff;}#sk-container-id-2 input.sk-toggleable__control:checked~div.sk-toggleable__content {max-height: 200px;max-width: 100%;overflow: auto;}#sk-container-id-2 input.sk-toggleable__control:checked~label.sk-toggleable__label-arrow:before {content: \"▾\";}#sk-container-id-2 div.sk-estimator input.sk-toggleable__control:checked~label.sk-toggleable__label {background-color: #d4ebff;}#sk-container-id-2 div.sk-label input.sk-toggleable__control:checked~label.sk-toggleable__label {background-color: #d4ebff;}#sk-container-id-2 input.sk-hidden--visually {border: 0;clip: rect(1px 1px 1px 1px);clip: rect(1px, 1px, 1px, 1px);height: 1px;margin: -1px;overflow: hidden;padding: 0;position: absolute;width: 1px;}#sk-container-id-2 div.sk-estimator {font-family: monospace;background-color: #f0f8ff;border: 1px dotted black;border-radius: 0.25em;box-sizing: border-box;margin-bottom: 0.5em;}#sk-container-id-2 div.sk-estimator:hover {background-color: #d4ebff;}#sk-container-id-2 div.sk-parallel-item::after {content: \"\";width: 100%;border-bottom: 1px solid gray;flex-grow: 1;}#sk-container-id-2 div.sk-label:hover label.sk-toggleable__label {background-color: #d4ebff;}#sk-container-id-2 div.sk-serial::before {content: \"\";position: absolute;border-left: 1px solid gray;box-sizing: border-box;top: 0;bottom: 0;left: 50%;z-index: 0;}#sk-container-id-2 div.sk-serial {display: flex;flex-direction: column;align-items: center;background-color: white;padding-right: 0.2em;padding-left: 0.2em;position: relative;}#sk-container-id-2 div.sk-item {position: relative;z-index: 1;}#sk-container-id-2 div.sk-parallel {display: flex;align-items: stretch;justify-content: center;background-color: white;position: relative;}#sk-container-id-2 div.sk-item::before, #sk-container-id-2 div.sk-parallel-item::before {content: \"\";position: absolute;border-left: 1px solid gray;box-sizing: border-box;top: 0;bottom: 0;left: 50%;z-index: -1;}#sk-container-id-2 div.sk-parallel-item {display: flex;flex-direction: column;z-index: 1;position: relative;background-color: white;}#sk-container-id-2 div.sk-parallel-item:first-child::after {align-self: flex-end;width: 50%;}#sk-container-id-2 div.sk-parallel-item:last-child::after {align-self: flex-start;width: 50%;}#sk-container-id-2 div.sk-parallel-item:only-child::after {width: 0;}#sk-container-id-2 div.sk-dashed-wrapped {border: 1px dashed gray;margin: 0 0.4em 0.5em 0.4em;box-sizing: border-box;padding-bottom: 0.4em;background-color: white;}#sk-container-id-2 div.sk-label label {font-family: monospace;font-weight: bold;display: inline-block;line-height: 1.2em;}#sk-container-id-2 div.sk-label-container {text-align: center;}#sk-container-id-2 div.sk-container {/* jupyter's `normalize.less` sets `[hidden] { display: none; }` but bootstrap.min.css set `[hidden] { display: none !important; }` so we also need the `!important` here to be able to override the default hidden behavior on the sphinx rendered scikit-learn.org. See: https://github.com/scikit-learn/scikit-learn/issues/21755 */display: inline-block !important;position: relative;}#sk-container-id-2 div.sk-text-repr-fallback {display: none;}</style><div id=\"sk-container-id-2\" class=\"sk-top-container\"><div class=\"sk-text-repr-fallback\"><pre>RandomizedSearchCV(cv=5, estimator=RandomForestClassifier(), n_iter=30,\n",
       "                   n_jobs=4,\n",
       "                   param_distributions={&#x27;bootstrap&#x27;: [True, False],\n",
       "                                        &#x27;criterion&#x27;: [&#x27;gini&#x27;, &#x27;entropy&#x27;],\n",
       "                                        &#x27;max_depth&#x27;: [1, 5, 10, 20, 50, 75, 100,\n",
       "                                                      150, 200],\n",
       "                                        &#x27;min_samples_leaf&#x27;: [1, 2, 3, 4],\n",
       "                                        &#x27;min_samples_split&#x27;: [1, 2, 5, 10, 15,\n",
       "                                                              20, 30],\n",
       "                                        &#x27;n_estimators&#x27;: array([ 100,  307,  514,  721,  928, 1135, 1342, 1550, 1757, 1964, 2171,\n",
       "       2378, 2585, 2792, 3000])},\n",
       "                   random_state=42, verbose=2)</pre><b>In a Jupyter environment, please rerun this cell to show the HTML representation or trust the notebook. <br />On GitHub, the HTML representation is unable to render, please try loading this page with nbviewer.org.</b></div><div class=\"sk-container\" hidden><div class=\"sk-item sk-dashed-wrapped\"><div class=\"sk-label-container\"><div class=\"sk-label sk-toggleable\"><input class=\"sk-toggleable__control sk-hidden--visually\" id=\"sk-estimator-id-4\" type=\"checkbox\" ><label for=\"sk-estimator-id-4\" class=\"sk-toggleable__label sk-toggleable__label-arrow\">RandomizedSearchCV</label><div class=\"sk-toggleable__content\"><pre>RandomizedSearchCV(cv=5, estimator=RandomForestClassifier(), n_iter=30,\n",
       "                   n_jobs=4,\n",
       "                   param_distributions={&#x27;bootstrap&#x27;: [True, False],\n",
       "                                        &#x27;criterion&#x27;: [&#x27;gini&#x27;, &#x27;entropy&#x27;],\n",
       "                                        &#x27;max_depth&#x27;: [1, 5, 10, 20, 50, 75, 100,\n",
       "                                                      150, 200],\n",
       "                                        &#x27;min_samples_leaf&#x27;: [1, 2, 3, 4],\n",
       "                                        &#x27;min_samples_split&#x27;: [1, 2, 5, 10, 15,\n",
       "                                                              20, 30],\n",
       "                                        &#x27;n_estimators&#x27;: array([ 100,  307,  514,  721,  928, 1135, 1342, 1550, 1757, 1964, 2171,\n",
       "       2378, 2585, 2792, 3000])},\n",
       "                   random_state=42, verbose=2)</pre></div></div></div><div class=\"sk-parallel\"><div class=\"sk-parallel-item\"><div class=\"sk-item\"><div class=\"sk-label-container\"><div class=\"sk-label sk-toggleable\"><input class=\"sk-toggleable__control sk-hidden--visually\" id=\"sk-estimator-id-5\" type=\"checkbox\" ><label for=\"sk-estimator-id-5\" class=\"sk-toggleable__label sk-toggleable__label-arrow\">estimator: RandomForestClassifier</label><div class=\"sk-toggleable__content\"><pre>RandomForestClassifier()</pre></div></div></div><div class=\"sk-serial\"><div class=\"sk-item\"><div class=\"sk-estimator sk-toggleable\"><input class=\"sk-toggleable__control sk-hidden--visually\" id=\"sk-estimator-id-6\" type=\"checkbox\" ><label for=\"sk-estimator-id-6\" class=\"sk-toggleable__label sk-toggleable__label-arrow\">RandomForestClassifier</label><div class=\"sk-toggleable__content\"><pre>RandomForestClassifier()</pre></div></div></div></div></div></div></div></div></div></div>"
      ],
      "text/plain": [
       "RandomizedSearchCV(cv=5, estimator=RandomForestClassifier(), n_iter=30,\n",
       "                   n_jobs=4,\n",
       "                   param_distributions={'bootstrap': [True, False],\n",
       "                                        'criterion': ['gini', 'entropy'],\n",
       "                                        'max_depth': [1, 5, 10, 20, 50, 75, 100,\n",
       "                                                      150, 200],\n",
       "                                        'min_samples_leaf': [1, 2, 3, 4],\n",
       "                                        'min_samples_split': [1, 2, 5, 10, 15,\n",
       "                                                              20, 30],\n",
       "                                        'n_estimators': array([ 100,  307,  514,  721,  928, 1135, 1342, 1550, 1757, 1964, 2171,\n",
       "       2378, 2585, 2792, 3000])},\n",
       "                   random_state=42, verbose=2)"
      ]
     },
     "execution_count": 244,
     "metadata": {},
     "output_type": "execute_result"
    }
   ],
   "source": [
    "rf_base = RandomForestClassifier()\n",
    "rf_random = RandomizedSearchCV(estimator = rf_base,\n",
    "                               param_distributions = random_grid,\n",
    "                               n_iter = 30, cv = 5,\n",
    "                               verbose=2,\n",
    "                               random_state=42, n_jobs = 4)\n",
    "rf_random.fit(X_train, y_train)"
   ]
  },
  {
   "cell_type": "markdown",
   "id": "cfb86e06-1bf9-499f-84d0-b6fc55b76681",
   "metadata": {},
   "source": [
    "We can also view the parameter values the random search found:"
   ]
  },
  {
   "cell_type": "code",
   "execution_count": 245,
   "id": "6aaf8f49-9bc8-4c39-b4e7-d0cf3d0feff4",
   "metadata": {},
   "outputs": [
    {
     "data": {
      "text/plain": [
       "{'n_estimators': 307,\n",
       " 'min_samples_split': 2,\n",
       " 'min_samples_leaf': 3,\n",
       " 'max_depth': 5,\n",
       " 'criterion': 'entropy',\n",
       " 'bootstrap': True}"
      ]
     },
     "execution_count": 245,
     "metadata": {},
     "output_type": "execute_result"
    }
   ],
   "source": [
    "rf_random.best_params_"
   ]
  },
  {
   "cell_type": "markdown",
   "id": "c534f0b9-10a8-486e-8c47-9205be5fbcf1",
   "metadata": {},
   "source": [
    "Lets evaluate our model again"
   ]
  },
  {
   "cell_type": "code",
   "execution_count": 289,
   "id": "00819f21-237f-4ade-b713-35de6aee5f87",
   "metadata": {},
   "outputs": [
    {
     "name": "stdout",
     "output_type": "stream",
     "text": [
      "0.8817934782608695\n",
      "0.8152173913043478\n"
     ]
    }
   ],
   "source": [
    "print(rf_random.score(X_train, y_train))\n",
    "print(rf_random.score(X_test, y_test))"
   ]
  },
  {
   "cell_type": "markdown",
   "id": "5a056733-62ff-4fe2-9a17-fec07824a7e1",
   "metadata": {},
   "source": [
    "We now see the training score is less than 90%, and the testing score is 81.52%. The model doesn’t appear to be overfitting as much as before."
   ]
  },
  {
   "cell_type": "markdown",
   "id": "17511e4f-05b2-4c76-966a-a663a30bd525",
   "metadata": {},
   "source": [
    "Now that we have parameter values from the randomized grid search, we can use these as a starting point for a grid search. A grid search works, in principle, similarly to the randomized grid search as it will search through the parameter space we define. However, instead of searching random values it will search every value possible in the parameter space. This computation can be expensive because the search grows very fast as more parameters and search values for those parameters increasess. This is why we performed the random grid search first. We save on compute power and only perform a fine methodological search once we have a good starting point. Instantiating a grid search is also similar to instantiating the random grid search."
   ]
  },
  {
   "cell_type": "code",
   "execution_count": 247,
   "id": "7914b9c0-0c2d-4d78-8aae-1b7bed3cd8fd",
   "metadata": {},
   "outputs": [],
   "source": [
    "param_grid = {\n",
    "    'n_estimators': np.linspace(2100, 2300, 5, dtype = int),\n",
    "    'max_depth': [170, 180, 190, 200, 210, 220],\n",
    "    'min_samples_split': [2, 3, 4],\n",
    "    'min_samples_leaf': [2, 3, 4, 5]\n",
    "}"
   ]
  },
  {
   "cell_type": "markdown",
   "id": "37252213-911b-4a95-9578-b772ab4a47dc",
   "metadata": {},
   "source": [
    "We can then retrain yet another random forest."
   ]
  },
  {
   "cell_type": "code",
   "execution_count": 248,
   "id": "117f13d2-e389-4683-b110-65ec611a2e3d",
   "metadata": {},
   "outputs": [
    {
     "name": "stdout",
     "output_type": "stream",
     "text": [
      "Fitting 5 folds for each of 360 candidates, totalling 1800 fits\n",
      "[CV] END bootstrap=True, criterion=entropy, max_depth=200, min_samples_leaf=2, min_samples_split=2, n_estimators=2171; total time=   4.5s\n",
      "[CV] END bootstrap=True, criterion=gini, max_depth=10, min_samples_leaf=1, min_samples_split=2, n_estimators=1135; total time=   1.8s\n",
      "[CV] END bootstrap=True, criterion=gini, max_depth=10, min_samples_leaf=1, min_samples_split=2, n_estimators=1135; total time=   1.8s\n",
      "[CV] END bootstrap=True, criterion=entropy, max_depth=20, min_samples_leaf=4, min_samples_split=5, n_estimators=1135; total time=   1.8s\n",
      "[CV] END bootstrap=False, criterion=entropy, max_depth=50, min_samples_leaf=4, min_samples_split=20, n_estimators=1757; total time=   2.4s\n",
      "[CV] END bootstrap=True, criterion=entropy, max_depth=20, min_samples_leaf=2, min_samples_split=10, n_estimators=307; total time=   0.5s\n",
      "[CV] END bootstrap=True, criterion=entropy, max_depth=20, min_samples_leaf=2, min_samples_split=10, n_estimators=307; total time=   0.5s\n",
      "[CV] END bootstrap=False, criterion=entropy, max_depth=5, min_samples_leaf=2, min_samples_split=30, n_estimators=1964; total time=   2.7s\n",
      "[CV] END bootstrap=False, criterion=gini, max_depth=200, min_samples_leaf=4, min_samples_split=10, n_estimators=928; total time=   1.3s\n",
      "[CV] END bootstrap=False, criterion=gini, max_depth=200, min_samples_leaf=4, min_samples_split=10, n_estimators=928; total time=   1.3s\n",
      "[CV] END bootstrap=True, criterion=entropy, max_depth=50, min_samples_leaf=3, min_samples_split=15, n_estimators=928; total time=   1.5s\n",
      "[CV] END bootstrap=True, criterion=entropy, max_depth=75, min_samples_leaf=4, min_samples_split=15, n_estimators=2171; total time=   4.2s\n",
      "[CV] END bootstrap=True, criterion=gini, max_depth=5, min_samples_leaf=1, min_samples_split=10, n_estimators=307; total time=   0.4s\n",
      "[CV] END bootstrap=True, criterion=gini, max_depth=5, min_samples_leaf=1, min_samples_split=10, n_estimators=307; total time=   0.4s\n",
      "[CV] END bootstrap=True, criterion=gini, max_depth=5, min_samples_leaf=1, min_samples_split=10, n_estimators=307; total time=   0.4s\n",
      "[CV] END bootstrap=False, criterion=entropy, max_depth=75, min_samples_leaf=1, min_samples_split=20, n_estimators=2378; total time=   3.3s\n",
      "[CV] END bootstrap=True, criterion=entropy, max_depth=5, min_samples_leaf=3, min_samples_split=2, n_estimators=307; total time=   0.5s\n",
      "[CV] END bootstrap=True, criterion=entropy, max_depth=5, min_samples_leaf=3, min_samples_split=2, n_estimators=307; total time=   0.5s\n",
      "[CV] END bootstrap=True, criterion=entropy, max_depth=5, min_samples_leaf=3, min_samples_split=2, n_estimators=307; total time=   0.5s\n",
      "[CV] END bootstrap=True, criterion=entropy, max_depth=50, min_samples_leaf=2, min_samples_split=1, n_estimators=2792; total time=   1.0s\n",
      "[CV] END bootstrap=True, criterion=entropy, max_depth=50, min_samples_leaf=2, min_samples_split=1, n_estimators=2792; total time=   0.9s\n",
      "[CV] END bootstrap=False, criterion=entropy, max_depth=150, min_samples_leaf=2, min_samples_split=5, n_estimators=1757; total time=   3.3s\n",
      "[CV] END bootstrap=False, criterion=entropy, max_depth=1, min_samples_leaf=3, min_samples_split=20, n_estimators=2378; total time=   2.3s\n",
      "[CV] END bootstrap=False, criterion=entropy, max_depth=1, min_samples_leaf=1, min_samples_split=2, n_estimators=1757; total time=   1.8s\n",
      "[CV] END bootstrap=False, criterion=entropy, max_depth=1, min_samples_leaf=1, min_samples_split=2, n_estimators=1757; total time=   1.8s\n",
      "[CV] END bootstrap=False, criterion=gini, max_depth=200, min_samples_leaf=2, min_samples_split=20, n_estimators=2378; total time=   3.0s\n",
      "[CV] END bootstrap=False, criterion=gini, max_depth=5, min_samples_leaf=4, min_samples_split=2, n_estimators=2585; total time=   3.0s\n",
      "[CV] END bootstrap=True, criterion=gini, max_depth=50, min_samples_leaf=1, min_samples_split=1, n_estimators=1135; total time=   0.5s\n",
      "[CV] END bootstrap=True, criterion=gini, max_depth=50, min_samples_leaf=1, min_samples_split=1, n_estimators=1135; total time=   0.5s\n",
      "[CV] END bootstrap=True, criterion=gini, max_depth=50, min_samples_leaf=1, min_samples_split=1, n_estimators=1135; total time=   0.5s\n",
      "[CV] END bootstrap=True, criterion=gini, max_depth=5, min_samples_leaf=4, min_samples_split=5, n_estimators=928; total time=   2.0s\n",
      "[CV] END bootstrap=True, criterion=gini, max_depth=5, min_samples_leaf=4, min_samples_split=5, n_estimators=928; total time=   1.9s\n",
      "[CV] END bootstrap=False, criterion=gini, max_depth=150, min_samples_leaf=1, min_samples_split=20, n_estimators=1757; total time=   4.6s\n",
      "[CV] END bootstrap=False, criterion=entropy, max_depth=75, min_samples_leaf=4, min_samples_split=10, n_estimators=721; total time=   1.5s\n",
      "[CV] END bootstrap=False, criterion=entropy, max_depth=75, min_samples_leaf=4, min_samples_split=10, n_estimators=721; total time=   1.3s\n",
      "[CV] END bootstrap=True, criterion=entropy, max_depth=150, min_samples_leaf=3, min_samples_split=2, n_estimators=928; total time=   2.0s\n",
      "[CV] END bootstrap=True, criterion=gini, max_depth=75, min_samples_leaf=4, min_samples_split=2, n_estimators=721; total time=   1.4s\n",
      "[CV] END bootstrap=True, criterion=entropy, max_depth=20, min_samples_leaf=3, min_samples_split=15, n_estimators=307; total time=   0.7s\n",
      "[CV] END bootstrap=True, criterion=entropy, max_depth=20, min_samples_leaf=3, min_samples_split=15, n_estimators=307; total time=   0.6s\n",
      "[CV] END bootstrap=True, criterion=entropy, max_depth=20, min_samples_leaf=1, min_samples_split=1, n_estimators=2378; total time=   1.0s\n",
      "[CV] END bootstrap=True, criterion=entropy, max_depth=100, min_samples_leaf=2, min_samples_split=2, n_estimators=100; total time=   0.2s\n",
      "[CV] END bootstrap=True, criterion=entropy, max_depth=100, min_samples_leaf=2, min_samples_split=2, n_estimators=100; total time=   0.2s\n",
      "[CV] END bootstrap=True, criterion=gini, max_depth=10, min_samples_leaf=4, min_samples_split=2, n_estimators=3000; total time=   7.2s\n",
      "[CV] END bootstrap=True, criterion=entropy, max_depth=5, min_samples_leaf=4, min_samples_split=5, n_estimators=2171; total time=   3.2s\n",
      "[CV] END bootstrap=True, criterion=entropy, max_depth=5, min_samples_leaf=4, min_samples_split=5, n_estimators=2171; total time=   3.9s\n",
      "[CV] END bootstrap=True, criterion=gini, max_depth=200, min_samples_leaf=1, min_samples_split=2, n_estimators=2171; total time=   4.2s\n",
      "[CV] END max_depth=170, min_samples_leaf=2, min_samples_split=2, n_estimators=2100; total time=   8.9s\n",
      "[CV] END max_depth=170, min_samples_leaf=2, min_samples_split=2, n_estimators=2200; total time=   8.4s\n",
      "[CV] END max_depth=170, min_samples_leaf=2, min_samples_split=2, n_estimators=2250; total time=   7.8s\n",
      "[CV] END max_depth=170, min_samples_leaf=2, min_samples_split=3, n_estimators=2100; total time=   8.9s\n",
      "[CV] END max_depth=170, min_samples_leaf=2, min_samples_split=3, n_estimators=2150; total time=   9.4s\n",
      "[CV] END max_depth=170, min_samples_leaf=2, min_samples_split=3, n_estimators=2250; total time=   9.8s\n",
      "[CV] END max_depth=170, min_samples_leaf=2, min_samples_split=3, n_estimators=2300; total time=   9.9s\n",
      "[CV] END max_depth=170, min_samples_leaf=2, min_samples_split=4, n_estimators=2150; total time=   8.6s\n",
      "[CV] END max_depth=170, min_samples_leaf=2, min_samples_split=4, n_estimators=2250; total time=  10.5s\n",
      "[CV] END max_depth=170, min_samples_leaf=2, min_samples_split=4, n_estimators=2300; total time=  10.9s\n",
      "[CV] END max_depth=170, min_samples_leaf=3, min_samples_split=2, n_estimators=2150; total time=   9.2s\n",
      "[CV] END max_depth=170, min_samples_leaf=3, min_samples_split=2, n_estimators=2250; total time=   8.6s\n",
      "[CV] END max_depth=170, min_samples_leaf=3, min_samples_split=2, n_estimators=2300; total time=   9.1s\n",
      "[CV] END max_depth=170, min_samples_leaf=3, min_samples_split=3, n_estimators=2150; total time=   7.7s\n",
      "[CV] END max_depth=170, min_samples_leaf=3, min_samples_split=3, n_estimators=2200; total time=   9.2s\n",
      "[CV] END max_depth=170, min_samples_leaf=3, min_samples_split=3, n_estimators=2300; total time=   9.8s\n",
      "[CV] END max_depth=170, min_samples_leaf=3, min_samples_split=4, n_estimators=2150; total time=   9.9s\n",
      "[CV] END max_depth=170, min_samples_leaf=3, min_samples_split=4, n_estimators=2200; total time=   9.4s\n",
      "[CV] END max_depth=170, min_samples_leaf=3, min_samples_split=4, n_estimators=2300; total time=  10.4s\n",
      "[CV] END max_depth=170, min_samples_leaf=4, min_samples_split=2, n_estimators=2100; total time=   7.4s\n",
      "[CV] END max_depth=170, min_samples_leaf=4, min_samples_split=2, n_estimators=2200; total time=   8.7s\n",
      "[CV] END max_depth=170, min_samples_leaf=4, min_samples_split=2, n_estimators=2300; total time=  11.3s\n",
      "[CV] END max_depth=170, min_samples_leaf=4, min_samples_split=3, n_estimators=2100; total time=   9.5s\n",
      "[CV] END max_depth=170, min_samples_leaf=4, min_samples_split=3, n_estimators=2200; total time=   8.4s\n",
      "[CV] END max_depth=170, min_samples_leaf=4, min_samples_split=3, n_estimators=2250; total time=   9.2s\n",
      "[CV] END max_depth=170, min_samples_leaf=4, min_samples_split=4, n_estimators=2100; total time=   7.8s\n",
      "[CV] END max_depth=170, min_samples_leaf=4, min_samples_split=4, n_estimators=2200; total time=   8.6s\n",
      "[CV] END max_depth=170, min_samples_leaf=4, min_samples_split=4, n_estimators=2250; total time=   8.2s\n",
      "[CV] END max_depth=170, min_samples_leaf=5, min_samples_split=2, n_estimators=2100; total time=   7.3s\n",
      "[CV] END max_depth=170, min_samples_leaf=5, min_samples_split=2, n_estimators=2150; total time=   7.2s\n",
      "[CV] END max_depth=170, min_samples_leaf=5, min_samples_split=2, n_estimators=2250; total time=   9.9s\n",
      "[CV] END max_depth=170, min_samples_leaf=5, min_samples_split=3, n_estimators=2100; total time=   8.2s\n",
      "[CV] END max_depth=170, min_samples_leaf=5, min_samples_split=3, n_estimators=2150; total time=   7.7s\n",
      "[CV] END max_depth=170, min_samples_leaf=5, min_samples_split=3, n_estimators=2250; total time=   8.9s\n",
      "[CV] END max_depth=170, min_samples_leaf=5, min_samples_split=3, n_estimators=2300; total time=  12.1s\n",
      "[CV] END max_depth=170, min_samples_leaf=5, min_samples_split=4, n_estimators=2150; total time=  10.1s\n",
      "[CV] END max_depth=170, min_samples_leaf=5, min_samples_split=4, n_estimators=2200; total time=  11.6s\n",
      "[CV] END max_depth=170, min_samples_leaf=5, min_samples_split=4, n_estimators=2300; total time=  10.0s\n",
      "[CV] END max_depth=180, min_samples_leaf=2, min_samples_split=2, n_estimators=2150; total time=   9.5s\n",
      "[CV] END max_depth=180, min_samples_leaf=2, min_samples_split=2, n_estimators=2200; total time=  10.2s\n",
      "[CV] END max_depth=180, min_samples_leaf=2, min_samples_split=2, n_estimators=2300; total time=  11.6s\n",
      "[CV] END max_depth=180, min_samples_leaf=2, min_samples_split=3, n_estimators=2100; total time=  11.1s\n",
      "[CV] END max_depth=180, min_samples_leaf=2, min_samples_split=3, n_estimators=2200; total time=   8.4s\n",
      "[CV] END max_depth=180, min_samples_leaf=2, min_samples_split=3, n_estimators=2300; total time=  10.1s\n",
      "[CV] END max_depth=180, min_samples_leaf=2, min_samples_split=4, n_estimators=2100; total time=   8.6s\n",
      "[CV] END max_depth=180, min_samples_leaf=2, min_samples_split=4, n_estimators=2200; total time=   8.4s\n",
      "[CV] END max_depth=180, min_samples_leaf=2, min_samples_split=4, n_estimators=2250; total time=  11.0s\n",
      "[CV] END max_depth=180, min_samples_leaf=3, min_samples_split=2, n_estimators=2100; total time=  10.9s\n",
      "[CV] END max_depth=180, min_samples_leaf=3, min_samples_split=2, n_estimators=2200; total time=   7.7s\n",
      "[CV] END max_depth=180, min_samples_leaf=3, min_samples_split=2, n_estimators=2250; total time=   7.5s\n",
      "[CV] END max_depth=180, min_samples_leaf=3, min_samples_split=3, n_estimators=2100; total time=   8.7s\n",
      "[CV] END max_depth=180, min_samples_leaf=3, min_samples_split=3, n_estimators=2150; total time=   7.2s\n",
      "[CV] END max_depth=180, min_samples_leaf=3, min_samples_split=3, n_estimators=2250; total time=   8.2s\n",
      "[CV] END max_depth=180, min_samples_leaf=3, min_samples_split=3, n_estimators=2300; total time=   9.8s\n",
      "[CV] END max_depth=180, min_samples_leaf=3, min_samples_split=4, n_estimators=2150; total time=   7.7s\n",
      "[CV] END max_depth=180, min_samples_leaf=3, min_samples_split=4, n_estimators=2250; total time=  10.7s\n",
      "[CV] END max_depth=180, min_samples_leaf=3, min_samples_split=4, n_estimators=2300; total time=  10.0s\n",
      "[CV] END max_depth=180, min_samples_leaf=4, min_samples_split=2, n_estimators=2150; total time=   8.6s\n",
      "[CV] END max_depth=180, min_samples_leaf=4, min_samples_split=2, n_estimators=2200; total time=   8.5s\n",
      "[CV] END max_depth=180, min_samples_leaf=4, min_samples_split=2, n_estimators=2300; total time=   8.0s\n",
      "[CV] END max_depth=180, min_samples_leaf=4, min_samples_split=3, n_estimators=2150; total time=   7.3s\n",
      "[CV] END max_depth=180, min_samples_leaf=4, min_samples_split=3, n_estimators=2200; total time=  10.1s\n",
      "[CV] END max_depth=180, min_samples_leaf=4, min_samples_split=3, n_estimators=2300; total time=  11.8s\n",
      "[CV] END max_depth=180, min_samples_leaf=4, min_samples_split=4, n_estimators=2100; total time=  10.9s\n",
      "[CV] END max_depth=180, min_samples_leaf=4, min_samples_split=4, n_estimators=2200; total time=   9.7s\n",
      "[CV] END max_depth=180, min_samples_leaf=4, min_samples_split=4, n_estimators=2300; total time=   9.2s\n",
      "[CV] END max_depth=180, min_samples_leaf=5, min_samples_split=2, n_estimators=2100; total time=   9.8s\n",
      "[CV] END max_depth=180, min_samples_leaf=5, min_samples_split=2, n_estimators=2200; total time=  10.3s\n",
      "[CV] END max_depth=180, min_samples_leaf=5, min_samples_split=2, n_estimators=2250; total time=   8.0s\n",
      "[CV] END max_depth=180, min_samples_leaf=5, min_samples_split=3, n_estimators=2100; total time=   8.1s\n",
      "[CV] END max_depth=180, min_samples_leaf=5, min_samples_split=3, n_estimators=2200; total time=   6.8s\n",
      "[CV] END max_depth=180, min_samples_leaf=5, min_samples_split=3, n_estimators=2250; total time=   7.4s\n",
      "[CV] END max_depth=180, min_samples_leaf=5, min_samples_split=4, n_estimators=2100; total time=   7.0s\n",
      "[CV] END max_depth=180, min_samples_leaf=5, min_samples_split=4, n_estimators=2150; total time=   9.9s\n",
      "[CV] END max_depth=180, min_samples_leaf=5, min_samples_split=4, n_estimators=2250; total time=  11.2s\n",
      "[CV] END max_depth=190, min_samples_leaf=2, min_samples_split=2, n_estimators=2100; total time=   7.4s\n",
      "[CV] END max_depth=190, min_samples_leaf=2, min_samples_split=2, n_estimators=2150; total time=   8.6s\n",
      "[CV] END max_depth=190, min_samples_leaf=2, min_samples_split=2, n_estimators=2250; total time=   7.8s\n",
      "[CV] END max_depth=190, min_samples_leaf=2, min_samples_split=2, n_estimators=2300; total time=   7.7s\n",
      "[CV] END max_depth=190, min_samples_leaf=2, min_samples_split=3, n_estimators=2150; total time=   7.6s\n",
      "[CV] END max_depth=190, min_samples_leaf=2, min_samples_split=3, n_estimators=2250; total time=   9.1s\n",
      "[CV] END max_depth=190, min_samples_leaf=2, min_samples_split=3, n_estimators=2300; total time=   8.4s\n",
      "[CV] END max_depth=190, min_samples_leaf=2, min_samples_split=4, n_estimators=2150; total time=   8.0s\n",
      "[CV] END max_depth=190, min_samples_leaf=2, min_samples_split=4, n_estimators=2200; total time=   7.3s\n",
      "[CV] END max_depth=190, min_samples_leaf=2, min_samples_split=4, n_estimators=2300; total time=   8.0s\n",
      "[CV] END max_depth=190, min_samples_leaf=3, min_samples_split=2, n_estimators=2150; total time=   7.7s\n",
      "[CV] END max_depth=190, min_samples_leaf=3, min_samples_split=2, n_estimators=2200; total time=   7.9s\n",
      "[CV] END max_depth=190, min_samples_leaf=3, min_samples_split=2, n_estimators=2300; total time=   8.2s\n",
      "[CV] END max_depth=190, min_samples_leaf=3, min_samples_split=3, n_estimators=2100; total time=  10.2s\n",
      "[CV] END max_depth=190, min_samples_leaf=3, min_samples_split=3, n_estimators=2200; total time=   9.5s\n",
      "[CV] END max_depth=190, min_samples_leaf=3, min_samples_split=3, n_estimators=2250; total time=   9.1s\n",
      "[CV] END max_depth=190, min_samples_leaf=3, min_samples_split=4, n_estimators=2100; total time=   8.3s\n",
      "[CV] END max_depth=190, min_samples_leaf=3, min_samples_split=4, n_estimators=2200; total time=   9.9s\n",
      "[CV] END max_depth=190, min_samples_leaf=3, min_samples_split=4, n_estimators=2250; total time=  10.1s\n",
      "[CV] END max_depth=190, min_samples_leaf=4, min_samples_split=2, n_estimators=2100; total time=   9.5s\n",
      "[CV] END max_depth=190, min_samples_leaf=4, min_samples_split=2, n_estimators=2150; total time=  10.1s\n",
      "[CV] END max_depth=190, min_samples_leaf=4, min_samples_split=2, n_estimators=2250; total time=   7.5s\n",
      "[CV] END bootstrap=True, criterion=entropy, max_depth=200, min_samples_leaf=2, min_samples_split=2, n_estimators=2171; total time=   4.5s\n",
      "[CV] END bootstrap=True, criterion=gini, max_depth=10, min_samples_leaf=1, min_samples_split=2, n_estimators=1135; total time=   1.8s\n",
      "[CV] END bootstrap=True, criterion=gini, max_depth=10, min_samples_leaf=1, min_samples_split=2, n_estimators=1135; total time=   1.8s\n",
      "[CV] END bootstrap=True, criterion=entropy, max_depth=20, min_samples_leaf=4, min_samples_split=5, n_estimators=1135; total time=   1.8s\n",
      "[CV] END bootstrap=False, criterion=entropy, max_depth=50, min_samples_leaf=4, min_samples_split=20, n_estimators=1757; total time=   2.4s\n",
      "[CV] END bootstrap=True, criterion=entropy, max_depth=20, min_samples_leaf=2, min_samples_split=10, n_estimators=307; total time=   0.5s\n",
      "[CV] END bootstrap=True, criterion=entropy, max_depth=20, min_samples_leaf=2, min_samples_split=10, n_estimators=307; total time=   0.5s\n",
      "[CV] END bootstrap=False, criterion=entropy, max_depth=5, min_samples_leaf=2, min_samples_split=30, n_estimators=1964; total time=   2.7s\n",
      "[CV] END bootstrap=False, criterion=gini, max_depth=200, min_samples_leaf=4, min_samples_split=10, n_estimators=928; total time=   1.3s\n",
      "[CV] END bootstrap=False, criterion=gini, max_depth=200, min_samples_leaf=4, min_samples_split=10, n_estimators=928; total time=   1.3s\n",
      "[CV] END bootstrap=True, criterion=entropy, max_depth=50, min_samples_leaf=3, min_samples_split=15, n_estimators=928; total time=   1.5s\n",
      "[CV] END bootstrap=True, criterion=entropy, max_depth=75, min_samples_leaf=4, min_samples_split=15, n_estimators=2171; total time=   4.2s\n",
      "[CV] END bootstrap=True, criterion=gini, max_depth=5, min_samples_leaf=1, min_samples_split=10, n_estimators=307; total time=   0.4s\n",
      "[CV] END bootstrap=True, criterion=gini, max_depth=5, min_samples_leaf=1, min_samples_split=10, n_estimators=307; total time=   0.4s\n",
      "[CV] END bootstrap=False, criterion=entropy, max_depth=75, min_samples_leaf=1, min_samples_split=20, n_estimators=2378; total time=   3.3s\n",
      "[CV] END bootstrap=False, criterion=entropy, max_depth=75, min_samples_leaf=1, min_samples_split=20, n_estimators=2378; total time=   3.6s\n",
      "[CV] END bootstrap=False, criterion=entropy, max_depth=150, min_samples_leaf=2, min_samples_split=5, n_estimators=1757; total time=   3.2s\n",
      "[CV] END bootstrap=False, criterion=entropy, max_depth=1, min_samples_leaf=3, min_samples_split=20, n_estimators=2378; total time=   2.3s\n",
      "[CV] END bootstrap=False, criterion=entropy, max_depth=1, min_samples_leaf=3, min_samples_split=20, n_estimators=2378; total time=   2.3s\n",
      "[CV] END bootstrap=False, criterion=entropy, max_depth=1, min_samples_leaf=1, min_samples_split=2, n_estimators=1757; total time=   1.8s\n",
      "[CV] END bootstrap=False, criterion=gini, max_depth=200, min_samples_leaf=2, min_samples_split=20, n_estimators=2378; total time=   3.0s\n",
      "[CV] END bootstrap=False, criterion=gini, max_depth=5, min_samples_leaf=4, min_samples_split=2, n_estimators=2585; total time=   3.2s\n",
      "[CV] END bootstrap=True, criterion=gini, max_depth=50, min_samples_leaf=1, min_samples_split=1, n_estimators=1135; total time=   0.5s\n",
      "[CV] END bootstrap=True, criterion=gini, max_depth=50, min_samples_leaf=1, min_samples_split=1, n_estimators=1135; total time=   0.5s\n",
      "[CV] END bootstrap=True, criterion=gini, max_depth=5, min_samples_leaf=4, min_samples_split=5, n_estimators=928; total time=   2.0s\n",
      "[CV] END bootstrap=True, criterion=gini, max_depth=5, min_samples_leaf=4, min_samples_split=5, n_estimators=928; total time=   1.8s\n",
      "[CV] END bootstrap=False, criterion=gini, max_depth=150, min_samples_leaf=1, min_samples_split=20, n_estimators=1757; total time=   4.7s\n",
      "[CV] END bootstrap=False, criterion=entropy, max_depth=75, min_samples_leaf=4, min_samples_split=10, n_estimators=721; total time=   1.5s\n",
      "[CV] END bootstrap=True, criterion=entropy, max_depth=150, min_samples_leaf=3, min_samples_split=2, n_estimators=928; total time=   1.9s\n",
      "[CV] END bootstrap=True, criterion=entropy, max_depth=150, min_samples_leaf=3, min_samples_split=2, n_estimators=928; total time=   2.1s\n",
      "[CV] END bootstrap=True, criterion=gini, max_depth=75, min_samples_leaf=4, min_samples_split=2, n_estimators=721; total time=   1.5s\n",
      "[CV] END bootstrap=True, criterion=entropy, max_depth=20, min_samples_leaf=1, min_samples_split=1, n_estimators=2378; total time=   1.0s\n",
      "[CV] END bootstrap=True, criterion=entropy, max_depth=20, min_samples_leaf=1, min_samples_split=1, n_estimators=2378; total time=   0.9s\n",
      "[CV] END bootstrap=True, criterion=gini, max_depth=10, min_samples_leaf=4, min_samples_split=2, n_estimators=3000; total time=   7.2s\n",
      "[CV] END bootstrap=True, criterion=entropy, max_depth=5, min_samples_leaf=4, min_samples_split=5, n_estimators=2171; total time=   3.2s\n",
      "[CV] END bootstrap=True, criterion=entropy, max_depth=5, min_samples_leaf=4, min_samples_split=5, n_estimators=2171; total time=   4.0s\n",
      "[CV] END bootstrap=True, criterion=gini, max_depth=200, min_samples_leaf=1, min_samples_split=2, n_estimators=2171; total time=   4.2s\n",
      "[CV] END max_depth=170, min_samples_leaf=2, min_samples_split=2, n_estimators=2100; total time=   8.9s\n",
      "[CV] END max_depth=170, min_samples_leaf=2, min_samples_split=2, n_estimators=2150; total time=   8.3s\n",
      "[CV] END max_depth=170, min_samples_leaf=2, min_samples_split=2, n_estimators=2250; total time=   7.8s\n",
      "[CV] END max_depth=170, min_samples_leaf=2, min_samples_split=3, n_estimators=2100; total time=   8.8s\n",
      "[CV] END max_depth=170, min_samples_leaf=2, min_samples_split=3, n_estimators=2150; total time=   9.4s\n",
      "[CV] END max_depth=170, min_samples_leaf=2, min_samples_split=3, n_estimators=2250; total time=   9.9s\n",
      "[CV] END max_depth=170, min_samples_leaf=2, min_samples_split=3, n_estimators=2300; total time=   9.8s\n",
      "[CV] END max_depth=170, min_samples_leaf=2, min_samples_split=4, n_estimators=2150; total time=   8.7s\n",
      "[CV] END max_depth=170, min_samples_leaf=2, min_samples_split=4, n_estimators=2250; total time=  10.5s\n",
      "[CV] END max_depth=170, min_samples_leaf=2, min_samples_split=4, n_estimators=2300; total time=  10.9s\n",
      "[CV] END max_depth=170, min_samples_leaf=3, min_samples_split=2, n_estimators=2150; total time=   9.2s\n",
      "[CV] END max_depth=170, min_samples_leaf=3, min_samples_split=2, n_estimators=2200; total time=   8.6s\n",
      "[CV] END max_depth=170, min_samples_leaf=3, min_samples_split=2, n_estimators=2300; total time=   9.0s\n",
      "[CV] END max_depth=170, min_samples_leaf=3, min_samples_split=3, n_estimators=2150; total time=   7.6s\n",
      "[CV] END max_depth=170, min_samples_leaf=3, min_samples_split=3, n_estimators=2200; total time=   9.2s\n",
      "[CV] END max_depth=170, min_samples_leaf=3, min_samples_split=3, n_estimators=2300; total time=   9.9s\n",
      "[CV] END max_depth=170, min_samples_leaf=3, min_samples_split=4, n_estimators=2100; total time=   9.8s\n",
      "[CV] END max_depth=170, min_samples_leaf=3, min_samples_split=4, n_estimators=2200; total time=   9.2s\n",
      "[CV] END max_depth=170, min_samples_leaf=3, min_samples_split=4, n_estimators=2300; total time=  10.6s\n",
      "[CV] END max_depth=170, min_samples_leaf=4, min_samples_split=2, n_estimators=2100; total time=   7.4s\n",
      "[CV] END max_depth=170, min_samples_leaf=4, min_samples_split=2, n_estimators=2200; total time=   8.7s\n",
      "[CV] END max_depth=170, min_samples_leaf=4, min_samples_split=2, n_estimators=2250; total time=  11.2s\n",
      "[CV] END max_depth=170, min_samples_leaf=4, min_samples_split=3, n_estimators=2100; total time=   9.5s\n",
      "[CV] END max_depth=170, min_samples_leaf=4, min_samples_split=3, n_estimators=2200; total time=   8.4s\n",
      "[CV] END max_depth=170, min_samples_leaf=4, min_samples_split=3, n_estimators=2250; total time=   9.4s\n",
      "[CV] END max_depth=170, min_samples_leaf=4, min_samples_split=4, n_estimators=2100; total time=   7.9s\n",
      "[CV] END max_depth=170, min_samples_leaf=4, min_samples_split=4, n_estimators=2150; total time=   8.6s\n",
      "[CV] END max_depth=170, min_samples_leaf=4, min_samples_split=4, n_estimators=2250; total time=   8.1s\n",
      "[CV] END max_depth=170, min_samples_leaf=5, min_samples_split=2, n_estimators=2100; total time=   7.4s\n",
      "[CV] END max_depth=170, min_samples_leaf=5, min_samples_split=2, n_estimators=2150; total time=   7.2s\n",
      "[CV] END max_depth=170, min_samples_leaf=5, min_samples_split=2, n_estimators=2250; total time=   9.9s\n",
      "[CV] END max_depth=170, min_samples_leaf=5, min_samples_split=2, n_estimators=2300; total time=   9.1s\n",
      "[CV] END max_depth=170, min_samples_leaf=5, min_samples_split=3, n_estimators=2150; total time=   7.6s\n",
      "[CV] END max_depth=170, min_samples_leaf=5, min_samples_split=3, n_estimators=2250; total time=   9.6s\n",
      "[CV] END max_depth=170, min_samples_leaf=5, min_samples_split=3, n_estimators=2300; total time=  11.6s\n",
      "[CV] END max_depth=170, min_samples_leaf=5, min_samples_split=4, n_estimators=2150; total time=  10.3s\n",
      "[CV] END max_depth=170, min_samples_leaf=5, min_samples_split=4, n_estimators=2250; total time=  11.8s\n",
      "[CV] END max_depth=170, min_samples_leaf=5, min_samples_split=4, n_estimators=2300; total time=   9.8s\n",
      "[CV] END max_depth=180, min_samples_leaf=2, min_samples_split=2, n_estimators=2150; total time=   9.5s\n",
      "[CV] END max_depth=180, min_samples_leaf=2, min_samples_split=2, n_estimators=2200; total time=  10.0s\n",
      "[CV] END max_depth=180, min_samples_leaf=2, min_samples_split=2, n_estimators=2300; total time=  12.3s\n",
      "[CV] END max_depth=180, min_samples_leaf=2, min_samples_split=3, n_estimators=2150; total time=  10.5s\n",
      "[CV] END max_depth=180, min_samples_leaf=2, min_samples_split=3, n_estimators=2200; total time=   8.9s\n",
      "[CV] END max_depth=180, min_samples_leaf=2, min_samples_split=3, n_estimators=2300; total time=   9.6s\n",
      "[CV] END max_depth=180, min_samples_leaf=2, min_samples_split=4, n_estimators=2100; total time=   8.8s\n",
      "[CV] END max_depth=180, min_samples_leaf=2, min_samples_split=4, n_estimators=2200; total time=   8.5s\n",
      "[CV] END max_depth=180, min_samples_leaf=2, min_samples_split=4, n_estimators=2300; total time=  11.7s\n",
      "[CV] END max_depth=180, min_samples_leaf=3, min_samples_split=2, n_estimators=2100; total time=  10.3s\n",
      "[CV] END max_depth=180, min_samples_leaf=3, min_samples_split=2, n_estimators=2200; total time=   7.6s\n",
      "[CV] END max_depth=180, min_samples_leaf=3, min_samples_split=2, n_estimators=2250; total time=   7.7s\n",
      "[CV] END max_depth=180, min_samples_leaf=3, min_samples_split=3, n_estimators=2100; total time=   8.7s\n",
      "[CV] END max_depth=180, min_samples_leaf=3, min_samples_split=3, n_estimators=2200; total time=   7.7s\n",
      "[CV] END max_depth=180, min_samples_leaf=3, min_samples_split=3, n_estimators=2250; total time=   7.9s\n",
      "[CV] END max_depth=180, min_samples_leaf=3, min_samples_split=4, n_estimators=2100; total time=   9.3s\n",
      "[CV] END max_depth=180, min_samples_leaf=3, min_samples_split=4, n_estimators=2150; total time=   8.2s\n",
      "[CV] END max_depth=180, min_samples_leaf=3, min_samples_split=4, n_estimators=2250; total time=  10.7s\n",
      "[CV] END max_depth=180, min_samples_leaf=4, min_samples_split=2, n_estimators=2100; total time=   9.0s\n",
      "[CV] END max_depth=180, min_samples_leaf=4, min_samples_split=2, n_estimators=2150; total time=   8.2s\n",
      "[CV] END max_depth=180, min_samples_leaf=4, min_samples_split=2, n_estimators=2250; total time=   8.8s\n",
      "[CV] END max_depth=180, min_samples_leaf=4, min_samples_split=2, n_estimators=2300; total time=   8.0s\n",
      "[CV] END max_depth=180, min_samples_leaf=4, min_samples_split=3, n_estimators=2150; total time=   7.3s\n",
      "[CV] END max_depth=180, min_samples_leaf=4, min_samples_split=3, n_estimators=2200; total time=  10.5s\n",
      "[CV] END max_depth=180, min_samples_leaf=4, min_samples_split=3, n_estimators=2300; total time=  11.7s\n",
      "[CV] END max_depth=180, min_samples_leaf=4, min_samples_split=4, n_estimators=2150; total time=  11.0s\n",
      "[CV] END max_depth=180, min_samples_leaf=4, min_samples_split=4, n_estimators=2200; total time=   9.7s\n",
      "[CV] END max_depth=180, min_samples_leaf=4, min_samples_split=4, n_estimators=2300; total time=   9.6s\n",
      "[CV] END max_depth=180, min_samples_leaf=5, min_samples_split=2, n_estimators=2100; total time=   9.8s\n",
      "[CV] END max_depth=180, min_samples_leaf=5, min_samples_split=2, n_estimators=2200; total time=  10.1s\n",
      "[CV] END max_depth=180, min_samples_leaf=5, min_samples_split=2, n_estimators=2300; total time=   8.5s\n",
      "[CV] END max_depth=180, min_samples_leaf=5, min_samples_split=3, n_estimators=2100; total time=   7.7s\n",
      "[CV] END max_depth=180, min_samples_leaf=5, min_samples_split=3, n_estimators=2200; total time=   6.9s\n",
      "[CV] END max_depth=180, min_samples_leaf=5, min_samples_split=3, n_estimators=2250; total time=   7.7s\n",
      "[CV] END max_depth=180, min_samples_leaf=5, min_samples_split=4, n_estimators=2100; total time=   6.9s\n",
      "[CV] END max_depth=180, min_samples_leaf=5, min_samples_split=4, n_estimators=2200; total time=  10.4s\n",
      "[CV] END max_depth=180, min_samples_leaf=5, min_samples_split=4, n_estimators=2250; total time=  11.2s\n",
      "[CV] END max_depth=190, min_samples_leaf=2, min_samples_split=2, n_estimators=2100; total time=   7.0s\n",
      "[CV] END max_depth=190, min_samples_leaf=2, min_samples_split=2, n_estimators=2150; total time=   8.7s\n",
      "[CV] END max_depth=190, min_samples_leaf=2, min_samples_split=2, n_estimators=2250; total time=   7.7s\n",
      "[CV] END max_depth=190, min_samples_leaf=2, min_samples_split=3, n_estimators=2100; total time=   7.0s\n",
      "[CV] END max_depth=190, min_samples_leaf=2, min_samples_split=3, n_estimators=2150; total time=   7.7s\n",
      "[CV] END max_depth=190, min_samples_leaf=2, min_samples_split=3, n_estimators=2250; total time=   9.6s\n",
      "[CV] END max_depth=190, min_samples_leaf=2, min_samples_split=3, n_estimators=2300; total time=   8.1s\n",
      "[CV] END max_depth=190, min_samples_leaf=2, min_samples_split=4, n_estimators=2150; total time=   8.0s\n",
      "[CV] END max_depth=190, min_samples_leaf=2, min_samples_split=4, n_estimators=2250; total time=   7.5s\n",
      "[CV] END max_depth=190, min_samples_leaf=2, min_samples_split=4, n_estimators=2300; total time=   8.2s\n",
      "[CV] END max_depth=190, min_samples_leaf=3, min_samples_split=2, n_estimators=2150; total time=   7.6s\n",
      "[CV] END max_depth=190, min_samples_leaf=3, min_samples_split=2, n_estimators=2250; total time=   8.0s\n",
      "[CV] END max_depth=190, min_samples_leaf=3, min_samples_split=2, n_estimators=2300; total time=   8.5s\n",
      "[CV] END max_depth=190, min_samples_leaf=3, min_samples_split=3, n_estimators=2150; total time=  11.1s\n",
      "[CV] END max_depth=190, min_samples_leaf=3, min_samples_split=3, n_estimators=2250; total time=   8.8s\n",
      "[CV] END max_depth=190, min_samples_leaf=3, min_samples_split=3, n_estimators=2300; total time=   9.6s\n",
      "[CV] END max_depth=190, min_samples_leaf=3, min_samples_split=4, n_estimators=2150; total time=   9.4s\n",
      "[CV] END max_depth=190, min_samples_leaf=3, min_samples_split=4, n_estimators=2200; total time=   9.5s\n",
      "[CV] END max_depth=190, min_samples_leaf=3, min_samples_split=4, n_estimators=2300; total time=  10.0s\n",
      "[CV] END max_depth=190, min_samples_leaf=4, min_samples_split=2, n_estimators=2150; total time=  10.0s\n",
      "[CV] END max_depth=190, min_samples_leaf=4, min_samples_split=2, n_estimators=2200; total time=   9.6s\n",
      "[CV] END max_depth=190, min_samples_leaf=4, min_samples_split=2, n_estimators=2300; total time=   7.5s\n",
      "[CV] END max_depth=190, min_samples_leaf=4, min_samples_split=3, n_estimators=2100; total time=   7.6s\n",
      "[CV] END max_depth=190, min_samples_leaf=4, min_samples_split=3, n_estimators=2200; total time=   8.5s\n",
      "[CV] END max_depth=190, min_samples_leaf=4, min_samples_split=3, n_estimators=2300; total time=   8.5s\n",
      "[CV] END max_depth=190, min_samples_leaf=4, min_samples_split=4, n_estimators=2100; total time=   7.1s\n",
      "[CV] END max_depth=190, min_samples_leaf=4, min_samples_split=4, n_estimators=2200; total time=   9.6s\n",
      "[CV] END max_depth=190, min_samples_leaf=4, min_samples_split=4, n_estimators=2250; total time=   7.3s\n",
      "[CV] END max_depth=190, min_samples_leaf=5, min_samples_split=2, n_estimators=2100; total time=   7.2s\n",
      "[CV] END max_depth=190, min_samples_leaf=5, min_samples_split=2, n_estimators=2150; total time=   7.8s\n",
      "[CV] END max_depth=190, min_samples_leaf=5, min_samples_split=2, n_estimators=2250; total time=   7.1s\n",
      "[CV] END max_depth=190, min_samples_leaf=5, min_samples_split=3, n_estimators=2100; total time=   6.6s\n",
      "[CV] END max_depth=190, min_samples_leaf=5, min_samples_split=3, n_estimators=2150; total time=   8.0s\n",
      "[CV] END max_depth=190, min_samples_leaf=5, min_samples_split=3, n_estimators=2250; total time=   8.5s\n",
      "[CV] END bootstrap=True, criterion=entropy, max_depth=200, min_samples_leaf=2, min_samples_split=2, n_estimators=2171; total time=   4.6s\n",
      "[CV] END bootstrap=True, criterion=gini, max_depth=10, min_samples_leaf=1, min_samples_split=2, n_estimators=1135; total time=   1.8s\n",
      "[CV] END bootstrap=True, criterion=entropy, max_depth=20, min_samples_leaf=4, min_samples_split=5, n_estimators=1135; total time=   1.8s\n",
      "[CV] END bootstrap=True, criterion=entropy, max_depth=20, min_samples_leaf=4, min_samples_split=5, n_estimators=1135; total time=   1.9s\n",
      "[CV] END bootstrap=False, criterion=entropy, max_depth=50, min_samples_leaf=4, min_samples_split=20, n_estimators=1757; total time=   2.4s\n",
      "[CV] END bootstrap=True, criterion=entropy, max_depth=20, min_samples_leaf=2, min_samples_split=10, n_estimators=307; total time=   0.6s\n",
      "[CV] END bootstrap=False, criterion=entropy, max_depth=5, min_samples_leaf=2, min_samples_split=30, n_estimators=1964; total time=   2.7s\n",
      "[CV] END bootstrap=False, criterion=entropy, max_depth=5, min_samples_leaf=2, min_samples_split=30, n_estimators=1964; total time=   2.7s\n",
      "[CV] END bootstrap=True, criterion=entropy, max_depth=50, min_samples_leaf=3, min_samples_split=15, n_estimators=928; total time=   1.5s\n",
      "[CV] END bootstrap=True, criterion=entropy, max_depth=50, min_samples_leaf=3, min_samples_split=15, n_estimators=928; total time=   1.6s\n",
      "[CV] END bootstrap=True, criterion=entropy, max_depth=75, min_samples_leaf=4, min_samples_split=15, n_estimators=2171; total time=   4.2s\n",
      "[CV] END bootstrap=False, criterion=entropy, max_depth=75, min_samples_leaf=1, min_samples_split=20, n_estimators=2378; total time=   3.4s\n",
      "[CV] END bootstrap=True, criterion=entropy, max_depth=5, min_samples_leaf=3, min_samples_split=2, n_estimators=307; total time=   0.5s\n",
      "[CV] END bootstrap=True, criterion=entropy, max_depth=5, min_samples_leaf=3, min_samples_split=2, n_estimators=307; total time=   0.5s\n",
      "[CV] END bootstrap=True, criterion=entropy, max_depth=50, min_samples_leaf=2, min_samples_split=1, n_estimators=2792; total time=   1.0s\n",
      "[CV] END bootstrap=True, criterion=entropy, max_depth=50, min_samples_leaf=2, min_samples_split=1, n_estimators=2792; total time=   0.9s\n",
      "[CV] END bootstrap=False, criterion=entropy, max_depth=150, min_samples_leaf=2, min_samples_split=5, n_estimators=1757; total time=   3.4s\n",
      "[CV] END bootstrap=False, criterion=entropy, max_depth=1, min_samples_leaf=3, min_samples_split=20, n_estimators=2378; total time=   2.4s\n",
      "[CV] END bootstrap=False, criterion=entropy, max_depth=1, min_samples_leaf=3, min_samples_split=20, n_estimators=2378; total time=   2.4s\n",
      "[CV] END bootstrap=False, criterion=gini, max_depth=200, min_samples_leaf=2, min_samples_split=20, n_estimators=2378; total time=   3.2s\n",
      "[CV] END bootstrap=False, criterion=gini, max_depth=200, min_samples_leaf=2, min_samples_split=20, n_estimators=2378; total time=   3.1s\n",
      "[CV] END bootstrap=False, criterion=gini, max_depth=5, min_samples_leaf=4, min_samples_split=2, n_estimators=2585; total time=   4.1s\n",
      "[CV] END bootstrap=True, criterion=gini, max_depth=5, min_samples_leaf=4, min_samples_split=5, n_estimators=928; total time=   1.9s\n",
      "[CV] END bootstrap=False, criterion=gini, max_depth=150, min_samples_leaf=1, min_samples_split=20, n_estimators=1757; total time=   4.7s\n",
      "[CV] END bootstrap=False, criterion=entropy, max_depth=75, min_samples_leaf=4, min_samples_split=10, n_estimators=721; total time=   1.6s\n",
      "[CV] END bootstrap=False, criterion=entropy, max_depth=75, min_samples_leaf=4, min_samples_split=10, n_estimators=721; total time=   1.4s\n",
      "[CV] END bootstrap=True, criterion=entropy, max_depth=150, min_samples_leaf=3, min_samples_split=2, n_estimators=928; total time=   2.1s\n",
      "[CV] END bootstrap=True, criterion=gini, max_depth=75, min_samples_leaf=4, min_samples_split=2, n_estimators=721; total time=   1.5s\n",
      "[CV] END bootstrap=True, criterion=entropy, max_depth=20, min_samples_leaf=3, min_samples_split=15, n_estimators=307; total time=   0.7s\n",
      "[CV] END bootstrap=True, criterion=entropy, max_depth=20, min_samples_leaf=3, min_samples_split=15, n_estimators=307; total time=   0.7s\n",
      "[CV] END bootstrap=True, criterion=entropy, max_depth=20, min_samples_leaf=1, min_samples_split=1, n_estimators=2378; total time=   1.0s\n",
      "[CV] END bootstrap=True, criterion=entropy, max_depth=100, min_samples_leaf=2, min_samples_split=2, n_estimators=100; total time=   0.2s\n",
      "[CV] END bootstrap=True, criterion=entropy, max_depth=100, min_samples_leaf=2, min_samples_split=2, n_estimators=100; total time=   0.2s\n",
      "[CV] END bootstrap=True, criterion=gini, max_depth=10, min_samples_leaf=4, min_samples_split=2, n_estimators=3000; total time=   7.4s\n",
      "[CV] END bootstrap=True, criterion=entropy, max_depth=5, min_samples_leaf=4, min_samples_split=5, n_estimators=2171; total time=   3.4s\n",
      "[CV] END bootstrap=True, criterion=gini, max_depth=200, min_samples_leaf=1, min_samples_split=2, n_estimators=2171; total time=   4.3s\n",
      "[CV] END bootstrap=True, criterion=gini, max_depth=200, min_samples_leaf=1, min_samples_split=2, n_estimators=2171; total time=   4.2s\n",
      "[CV] END max_depth=170, min_samples_leaf=2, min_samples_split=2, n_estimators=2100; total time=   9.1s\n",
      "[CV] END max_depth=170, min_samples_leaf=2, min_samples_split=2, n_estimators=2200; total time=   8.6s\n",
      "[CV] END max_depth=170, min_samples_leaf=2, min_samples_split=2, n_estimators=2250; total time=   8.0s\n",
      "[CV] END max_depth=170, min_samples_leaf=2, min_samples_split=3, n_estimators=2100; total time=   9.2s\n",
      "[CV] END max_depth=170, min_samples_leaf=2, min_samples_split=3, n_estimators=2200; total time=   9.8s\n",
      "[CV] END max_depth=170, min_samples_leaf=2, min_samples_split=3, n_estimators=2250; total time=   9.9s\n",
      "[CV] END max_depth=170, min_samples_leaf=2, min_samples_split=4, n_estimators=2100; total time=   9.3s\n",
      "[CV] END max_depth=170, min_samples_leaf=2, min_samples_split=4, n_estimators=2150; total time=   8.8s\n",
      "[CV] END max_depth=170, min_samples_leaf=2, min_samples_split=4, n_estimators=2250; total time=  11.1s\n",
      "[CV] END max_depth=170, min_samples_leaf=3, min_samples_split=2, n_estimators=2100; total time=   9.7s\n",
      "[CV] END max_depth=170, min_samples_leaf=3, min_samples_split=2, n_estimators=2150; total time=   9.5s\n",
      "[CV] END max_depth=170, min_samples_leaf=3, min_samples_split=2, n_estimators=2250; total time=   9.0s\n",
      "[CV] END max_depth=170, min_samples_leaf=3, min_samples_split=2, n_estimators=2300; total time=   9.1s\n",
      "[CV] END max_depth=170, min_samples_leaf=3, min_samples_split=3, n_estimators=2150; total time=   8.2s\n",
      "[CV] END max_depth=170, min_samples_leaf=3, min_samples_split=3, n_estimators=2250; total time=   9.4s\n",
      "[CV] END max_depth=170, min_samples_leaf=3, min_samples_split=3, n_estimators=2300; total time=  10.6s\n",
      "[CV] END max_depth=170, min_samples_leaf=3, min_samples_split=4, n_estimators=2150; total time=   9.9s\n",
      "[CV] END max_depth=170, min_samples_leaf=3, min_samples_split=4, n_estimators=2250; total time=   9.5s\n",
      "[CV] END max_depth=170, min_samples_leaf=4, min_samples_split=2, n_estimators=2100; total time=  10.0s\n",
      "[CV] END max_depth=170, min_samples_leaf=4, min_samples_split=2, n_estimators=2150; total time=   7.2s\n",
      "[CV] END max_depth=170, min_samples_leaf=4, min_samples_split=2, n_estimators=2250; total time=  10.3s\n",
      "[CV] END max_depth=170, min_samples_leaf=4, min_samples_split=3, n_estimators=2100; total time=  10.1s\n",
      "[CV] END max_depth=170, min_samples_leaf=4, min_samples_split=3, n_estimators=2150; total time=   9.5s\n",
      "[CV] END max_depth=170, min_samples_leaf=4, min_samples_split=3, n_estimators=2250; total time=   9.5s\n",
      "[CV] END max_depth=170, min_samples_leaf=4, min_samples_split=3, n_estimators=2300; total time=   8.8s\n",
      "[CV] END max_depth=170, min_samples_leaf=4, min_samples_split=4, n_estimators=2150; total time=   7.9s\n",
      "[CV] END max_depth=170, min_samples_leaf=4, min_samples_split=4, n_estimators=2250; total time=   8.8s\n",
      "[CV] END max_depth=170, min_samples_leaf=4, min_samples_split=4, n_estimators=2300; total time=   8.8s\n",
      "[CV] END max_depth=170, min_samples_leaf=5, min_samples_split=2, n_estimators=2150; total time=   7.5s\n",
      "[CV] END max_depth=170, min_samples_leaf=5, min_samples_split=2, n_estimators=2200; total time=   8.8s\n",
      "[CV] END max_depth=170, min_samples_leaf=5, min_samples_split=2, n_estimators=2300; total time=   9.3s\n",
      "[CV] END max_depth=170, min_samples_leaf=5, min_samples_split=3, n_estimators=2150; total time=   8.3s\n",
      "[CV] END max_depth=170, min_samples_leaf=5, min_samples_split=3, n_estimators=2200; total time=   8.5s\n",
      "[CV] END max_depth=170, min_samples_leaf=5, min_samples_split=3, n_estimators=2300; total time=  11.9s\n",
      "[CV] END max_depth=170, min_samples_leaf=5, min_samples_split=4, n_estimators=2100; total time=  10.4s\n",
      "[CV] END max_depth=170, min_samples_leaf=5, min_samples_split=4, n_estimators=2200; total time=  11.6s\n",
      "[CV] END max_depth=170, min_samples_leaf=5, min_samples_split=4, n_estimators=2300; total time=  10.4s\n",
      "[CV] END max_depth=180, min_samples_leaf=2, min_samples_split=2, n_estimators=2100; total time=   9.4s\n",
      "[CV] END max_depth=180, min_samples_leaf=2, min_samples_split=2, n_estimators=2200; total time=  10.5s\n",
      "[CV] END max_depth=180, min_samples_leaf=2, min_samples_split=2, n_estimators=2250; total time=  11.4s\n",
      "[CV] END max_depth=180, min_samples_leaf=2, min_samples_split=3, n_estimators=2100; total time=  11.9s\n",
      "[CV] END max_depth=180, min_samples_leaf=2, min_samples_split=3, n_estimators=2200; total time=   8.5s\n",
      "[CV] END max_depth=180, min_samples_leaf=2, min_samples_split=3, n_estimators=2250; total time=  10.2s\n",
      "[CV] END max_depth=180, min_samples_leaf=2, min_samples_split=4, n_estimators=2100; total time=   8.8s\n",
      "[CV] END max_depth=180, min_samples_leaf=2, min_samples_split=4, n_estimators=2200; total time=   8.6s\n",
      "[CV] END max_depth=180, min_samples_leaf=2, min_samples_split=4, n_estimators=2250; total time=  11.0s\n",
      "[CV] END max_depth=180, min_samples_leaf=3, min_samples_split=2, n_estimators=2100; total time=  11.2s\n",
      "[CV] END max_depth=180, min_samples_leaf=3, min_samples_split=2, n_estimators=2150; total time=   7.9s\n",
      "[CV] END max_depth=180, min_samples_leaf=3, min_samples_split=2, n_estimators=2250; total time=   7.7s\n",
      "[CV] END max_depth=180, min_samples_leaf=3, min_samples_split=3, n_estimators=2100; total time=   9.0s\n",
      "[CV] END max_depth=180, min_samples_leaf=3, min_samples_split=3, n_estimators=2150; total time=   7.4s\n",
      "[CV] END max_depth=180, min_samples_leaf=3, min_samples_split=3, n_estimators=2250; total time=   8.3s\n",
      "[CV] END max_depth=180, min_samples_leaf=3, min_samples_split=4, n_estimators=2100; total time=   9.2s\n",
      "[CV] END max_depth=180, min_samples_leaf=3, min_samples_split=4, n_estimators=2150; total time=   7.9s\n",
      "[CV] END max_depth=180, min_samples_leaf=3, min_samples_split=4, n_estimators=2250; total time=  11.1s\n",
      "[CV] END max_depth=180, min_samples_leaf=3, min_samples_split=4, n_estimators=2300; total time=  10.4s\n",
      "[CV] END max_depth=180, min_samples_leaf=4, min_samples_split=2, n_estimators=2150; total time=   8.3s\n",
      "[CV] END max_depth=180, min_samples_leaf=4, min_samples_split=2, n_estimators=2250; total time=   9.1s\n",
      "[CV] END max_depth=180, min_samples_leaf=4, min_samples_split=3, n_estimators=2100; total time=   7.4s\n",
      "[CV] END max_depth=180, min_samples_leaf=4, min_samples_split=3, n_estimators=2150; total time=   7.5s\n",
      "[CV] END max_depth=180, min_samples_leaf=4, min_samples_split=3, n_estimators=2250; total time=  10.9s\n",
      "[CV] END max_depth=180, min_samples_leaf=4, min_samples_split=3, n_estimators=2300; total time=  11.8s\n",
      "[CV] END max_depth=180, min_samples_leaf=4, min_samples_split=4, n_estimators=2150; total time=  11.2s\n",
      "[CV] END max_depth=180, min_samples_leaf=4, min_samples_split=4, n_estimators=2250; total time=  10.0s\n",
      "[CV] END max_depth=180, min_samples_leaf=4, min_samples_split=4, n_estimators=2300; total time=  10.3s\n",
      "[CV] END max_depth=180, min_samples_leaf=5, min_samples_split=2, n_estimators=2150; total time=  10.4s\n",
      "[CV] END max_depth=180, min_samples_leaf=5, min_samples_split=2, n_estimators=2250; total time=   9.6s\n",
      "[CV] END max_depth=180, min_samples_leaf=5, min_samples_split=2, n_estimators=2300; total time=   9.1s\n",
      "[CV] END max_depth=180, min_samples_leaf=5, min_samples_split=3, n_estimators=2150; total time=   7.4s\n",
      "[CV] END max_depth=180, min_samples_leaf=5, min_samples_split=3, n_estimators=2250; total time=   7.2s\n",
      "[CV] END max_depth=180, min_samples_leaf=5, min_samples_split=3, n_estimators=2300; total time=   8.1s\n",
      "[CV] END max_depth=180, min_samples_leaf=5, min_samples_split=4, n_estimators=2150; total time=   9.1s\n",
      "[CV] END max_depth=180, min_samples_leaf=5, min_samples_split=4, n_estimators=2250; total time=  11.2s\n",
      "[CV] END max_depth=180, min_samples_leaf=5, min_samples_split=4, n_estimators=2300; total time=   9.1s\n",
      "[CV] END max_depth=190, min_samples_leaf=2, min_samples_split=2, n_estimators=2150; total time=   8.7s\n",
      "[CV] END max_depth=190, min_samples_leaf=2, min_samples_split=2, n_estimators=2200; total time=   7.8s\n",
      "[CV] END max_depth=190, min_samples_leaf=2, min_samples_split=2, n_estimators=2300; total time=   7.8s\n",
      "[CV] END max_depth=190, min_samples_leaf=2, min_samples_split=3, n_estimators=2150; total time=   7.8s\n",
      "[CV] END max_depth=190, min_samples_leaf=2, min_samples_split=3, n_estimators=2200; total time=   8.6s\n",
      "[CV] END max_depth=190, min_samples_leaf=2, min_samples_split=3, n_estimators=2300; total time=   9.1s\n",
      "[CV] END max_depth=190, min_samples_leaf=2, min_samples_split=4, n_estimators=2150; total time=   8.2s\n",
      "[CV] END max_depth=190, min_samples_leaf=2, min_samples_split=4, n_estimators=2200; total time=   7.4s\n",
      "[CV] END max_depth=190, min_samples_leaf=2, min_samples_split=4, n_estimators=2300; total time=   8.2s\n",
      "[CV] END max_depth=190, min_samples_leaf=3, min_samples_split=2, n_estimators=2100; total time=   7.8s\n",
      "[CV] END max_depth=190, min_samples_leaf=3, min_samples_split=2, n_estimators=2200; total time=   8.0s\n",
      "[CV] END max_depth=190, min_samples_leaf=3, min_samples_split=2, n_estimators=2300; total time=   8.2s\n",
      "[CV] END max_depth=190, min_samples_leaf=3, min_samples_split=3, n_estimators=2100; total time=  10.4s\n",
      "[CV] END max_depth=190, min_samples_leaf=3, min_samples_split=3, n_estimators=2200; total time=   9.8s\n",
      "[CV] END max_depth=190, min_samples_leaf=3, min_samples_split=3, n_estimators=2300; total time=   9.5s\n",
      "[CV] END max_depth=190, min_samples_leaf=3, min_samples_split=4, n_estimators=2100; total time=   8.9s\n",
      "[CV] END max_depth=190, min_samples_leaf=3, min_samples_split=4, n_estimators=2200; total time=  10.0s\n",
      "[CV] END max_depth=190, min_samples_leaf=3, min_samples_split=4, n_estimators=2300; total time=  10.1s\n",
      "[CV] END max_depth=190, min_samples_leaf=4, min_samples_split=2, n_estimators=2100; total time=  10.1s\n",
      "[CV] END max_depth=190, min_samples_leaf=4, min_samples_split=2, n_estimators=2200; total time=  10.1s\n",
      "[CV] END max_depth=190, min_samples_leaf=4, min_samples_split=2, n_estimators=2250; total time=   7.6s\n",
      "[CV] END max_depth=190, min_samples_leaf=4, min_samples_split=3, n_estimators=2100; total time=   7.7s\n",
      "[CV] END max_depth=190, min_samples_leaf=4, min_samples_split=3, n_estimators=2200; total time=   8.7s\n",
      "[CV] END max_depth=190, min_samples_leaf=4, min_samples_split=3, n_estimators=2250; total time=   8.3s\n",
      "[CV] END max_depth=190, min_samples_leaf=4, min_samples_split=4, n_estimators=2100; total time=   7.2s\n",
      "[CV] END max_depth=190, min_samples_leaf=4, min_samples_split=4, n_estimators=2200; total time=   9.8s\n",
      "[CV] END max_depth=190, min_samples_leaf=4, min_samples_split=4, n_estimators=2250; total time=   7.5s\n",
      "[CV] END max_depth=190, min_samples_leaf=5, min_samples_split=2, n_estimators=2100; total time=   7.4s\n",
      "[CV] END max_depth=190, min_samples_leaf=5, min_samples_split=2, n_estimators=2200; total time=   8.0s\n",
      "[CV] END max_depth=190, min_samples_leaf=5, min_samples_split=2, n_estimators=2250; total time=   7.3s\n",
      "[CV] END max_depth=190, min_samples_leaf=5, min_samples_split=3, n_estimators=2100; total time=   6.8s\n",
      "[CV] END max_depth=190, min_samples_leaf=5, min_samples_split=3, n_estimators=2150; total time=   8.4s\n",
      "[CV] END max_depth=190, min_samples_leaf=5, min_samples_split=3, n_estimators=2250; total time=   9.0s\n",
      "[CV] END max_depth=190, min_samples_leaf=5, min_samples_split=4, n_estimators=2100; total time=   8.6s\n",
      "[CV] END max_depth=190, min_samples_leaf=5, min_samples_split=4, n_estimators=2150; total time=   7.9s\n",
      "[CV] END bootstrap=True, criterion=entropy, max_depth=200, min_samples_leaf=2, min_samples_split=2, n_estimators=2171; total time=   4.4s\n",
      "[CV] END bootstrap=True, criterion=entropy, max_depth=200, min_samples_leaf=2, min_samples_split=2, n_estimators=2171; total time=   3.5s\n",
      "[CV] END bootstrap=True, criterion=entropy, max_depth=20, min_samples_leaf=4, min_samples_split=5, n_estimators=1135; total time=   1.8s\n",
      "[CV] END bootstrap=False, criterion=entropy, max_depth=50, min_samples_leaf=4, min_samples_split=20, n_estimators=1757; total time=   2.3s\n",
      "[CV] END bootstrap=False, criterion=entropy, max_depth=50, min_samples_leaf=4, min_samples_split=20, n_estimators=1757; total time=   2.4s\n",
      "[CV] END bootstrap=False, criterion=entropy, max_depth=5, min_samples_leaf=2, min_samples_split=30, n_estimators=1964; total time=   2.7s\n",
      "[CV] END bootstrap=False, criterion=gini, max_depth=200, min_samples_leaf=4, min_samples_split=10, n_estimators=928; total time=   1.3s\n",
      "[CV] END bootstrap=True, criterion=entropy, max_depth=50, min_samples_leaf=3, min_samples_split=15, n_estimators=928; total time=   1.4s\n",
      "[CV] END bootstrap=True, criterion=entropy, max_depth=75, min_samples_leaf=4, min_samples_split=15, n_estimators=2171; total time=   4.2s\n",
      "[CV] END bootstrap=True, criterion=entropy, max_depth=75, min_samples_leaf=4, min_samples_split=15, n_estimators=2171; total time=   3.3s\n",
      "[CV] END bootstrap=False, criterion=entropy, max_depth=75, min_samples_leaf=1, min_samples_split=20, n_estimators=2378; total time=   3.5s\n",
      "[CV] END bootstrap=True, criterion=entropy, max_depth=50, min_samples_leaf=2, min_samples_split=1, n_estimators=2792; total time=   0.9s\n",
      "[CV] END bootstrap=False, criterion=entropy, max_depth=150, min_samples_leaf=2, min_samples_split=5, n_estimators=1757; total time=   3.3s\n",
      "[CV] END bootstrap=False, criterion=entropy, max_depth=150, min_samples_leaf=2, min_samples_split=5, n_estimators=1757; total time=   2.5s\n",
      "[CV] END bootstrap=False, criterion=entropy, max_depth=1, min_samples_leaf=1, min_samples_split=2, n_estimators=1757; total time=   1.7s\n",
      "[CV] END bootstrap=False, criterion=entropy, max_depth=1, min_samples_leaf=1, min_samples_split=2, n_estimators=1757; total time=   1.8s\n",
      "[CV] END bootstrap=False, criterion=gini, max_depth=200, min_samples_leaf=2, min_samples_split=20, n_estimators=2378; total time=   3.0s\n",
      "[CV] END bootstrap=False, criterion=gini, max_depth=5, min_samples_leaf=4, min_samples_split=2, n_estimators=2585; total time=   2.9s\n",
      "[CV] END bootstrap=False, criterion=gini, max_depth=5, min_samples_leaf=4, min_samples_split=2, n_estimators=2585; total time=   4.3s\n",
      "[CV] END bootstrap=False, criterion=gini, max_depth=150, min_samples_leaf=1, min_samples_split=20, n_estimators=1757; total time=   3.9s\n",
      "[CV] END bootstrap=False, criterion=gini, max_depth=150, min_samples_leaf=1, min_samples_split=20, n_estimators=1757; total time=   4.0s\n",
      "[CV] END bootstrap=True, criterion=entropy, max_depth=150, min_samples_leaf=3, min_samples_split=2, n_estimators=928; total time=   1.9s\n",
      "[CV] END bootstrap=True, criterion=gini, max_depth=75, min_samples_leaf=4, min_samples_split=2, n_estimators=721; total time=   1.5s\n",
      "[CV] END bootstrap=True, criterion=gini, max_depth=75, min_samples_leaf=4, min_samples_split=2, n_estimators=721; total time=   1.5s\n",
      "[CV] END bootstrap=True, criterion=entropy, max_depth=20, min_samples_leaf=3, min_samples_split=15, n_estimators=307; total time=   0.6s\n",
      "[CV] END bootstrap=True, criterion=entropy, max_depth=20, min_samples_leaf=1, min_samples_split=1, n_estimators=2378; total time=   1.0s\n",
      "[CV] END bootstrap=True, criterion=entropy, max_depth=100, min_samples_leaf=2, min_samples_split=2, n_estimators=100; total time=   0.2s\n",
      "[CV] END bootstrap=True, criterion=gini, max_depth=10, min_samples_leaf=4, min_samples_split=2, n_estimators=3000; total time=   7.2s\n",
      "[CV] END bootstrap=True, criterion=gini, max_depth=10, min_samples_leaf=4, min_samples_split=2, n_estimators=3000; total time=   4.9s\n",
      "[CV] END bootstrap=True, criterion=gini, max_depth=200, min_samples_leaf=1, min_samples_split=2, n_estimators=2171; total time=   4.3s\n",
      "[CV] END max_depth=170, min_samples_leaf=2, min_samples_split=2, n_estimators=2100; total time=   8.9s\n",
      "[CV] END max_depth=170, min_samples_leaf=2, min_samples_split=2, n_estimators=2150; total time=   8.2s\n",
      "[CV] END max_depth=170, min_samples_leaf=2, min_samples_split=2, n_estimators=2250; total time=   7.8s\n",
      "[CV] END max_depth=170, min_samples_leaf=2, min_samples_split=2, n_estimators=2300; total time=   9.5s\n",
      "[CV] END max_depth=170, min_samples_leaf=2, min_samples_split=3, n_estimators=2150; total time=   9.4s\n",
      "[CV] END max_depth=170, min_samples_leaf=2, min_samples_split=3, n_estimators=2250; total time=   9.8s\n",
      "[CV] END max_depth=170, min_samples_leaf=2, min_samples_split=4, n_estimators=2100; total time=   8.7s\n",
      "[CV] END max_depth=170, min_samples_leaf=2, min_samples_split=4, n_estimators=2150; total time=   8.9s\n",
      "[CV] END max_depth=170, min_samples_leaf=2, min_samples_split=4, n_estimators=2200; total time=  10.3s\n",
      "[CV] END max_depth=170, min_samples_leaf=2, min_samples_split=4, n_estimators=2300; total time=  10.7s\n",
      "[CV] END max_depth=170, min_samples_leaf=3, min_samples_split=2, n_estimators=2150; total time=   9.2s\n",
      "[CV] END max_depth=170, min_samples_leaf=3, min_samples_split=2, n_estimators=2200; total time=   8.7s\n",
      "[CV] END max_depth=170, min_samples_leaf=3, min_samples_split=2, n_estimators=2300; total time=   9.1s\n",
      "[CV] END max_depth=170, min_samples_leaf=3, min_samples_split=3, n_estimators=2100; total time=   7.4s\n",
      "[CV] END max_depth=170, min_samples_leaf=3, min_samples_split=3, n_estimators=2200; total time=   9.1s\n",
      "[CV] END max_depth=170, min_samples_leaf=3, min_samples_split=3, n_estimators=2300; total time=   9.8s\n",
      "[CV] END max_depth=170, min_samples_leaf=3, min_samples_split=4, n_estimators=2100; total time=   9.7s\n",
      "[CV] END max_depth=170, min_samples_leaf=3, min_samples_split=4, n_estimators=2200; total time=   9.4s\n",
      "[CV] END max_depth=170, min_samples_leaf=3, min_samples_split=4, n_estimators=2250; total time=  10.2s\n",
      "[CV] END max_depth=170, min_samples_leaf=4, min_samples_split=2, n_estimators=2100; total time=   7.7s\n",
      "[CV] END max_depth=170, min_samples_leaf=4, min_samples_split=2, n_estimators=2200; total time=   8.2s\n",
      "[CV] END max_depth=170, min_samples_leaf=4, min_samples_split=2, n_estimators=2250; total time=  11.0s\n",
      "[CV] END max_depth=170, min_samples_leaf=4, min_samples_split=3, n_estimators=2100; total time=   9.6s\n",
      "[CV] END max_depth=170, min_samples_leaf=4, min_samples_split=3, n_estimators=2150; total time=   8.1s\n",
      "[CV] END max_depth=170, min_samples_leaf=4, min_samples_split=3, n_estimators=2250; total time=   9.6s\n",
      "[CV] END max_depth=170, min_samples_leaf=4, min_samples_split=4, n_estimators=2100; total time=   7.7s\n",
      "[CV] END max_depth=170, min_samples_leaf=4, min_samples_split=4, n_estimators=2150; total time=   8.6s\n",
      "[CV] END max_depth=170, min_samples_leaf=4, min_samples_split=4, n_estimators=2250; total time=   7.7s\n",
      "[CV] END max_depth=170, min_samples_leaf=4, min_samples_split=4, n_estimators=2300; total time=   8.5s\n",
      "[CV] END max_depth=170, min_samples_leaf=5, min_samples_split=2, n_estimators=2150; total time=   7.3s\n",
      "[CV] END max_depth=170, min_samples_leaf=5, min_samples_split=2, n_estimators=2250; total time=   9.6s\n",
      "[CV] END max_depth=170, min_samples_leaf=5, min_samples_split=2, n_estimators=2300; total time=   8.9s\n",
      "[CV] END max_depth=170, min_samples_leaf=5, min_samples_split=3, n_estimators=2150; total time=   7.9s\n",
      "[CV] END max_depth=170, min_samples_leaf=5, min_samples_split=3, n_estimators=2200; total time=   8.6s\n",
      "[CV] END max_depth=170, min_samples_leaf=5, min_samples_split=3, n_estimators=2300; total time=  12.0s\n",
      "[CV] END max_depth=170, min_samples_leaf=5, min_samples_split=4, n_estimators=2150; total time=  10.0s\n",
      "[CV] END max_depth=170, min_samples_leaf=5, min_samples_split=4, n_estimators=2200; total time=  11.6s\n",
      "[CV] END max_depth=170, min_samples_leaf=5, min_samples_split=4, n_estimators=2300; total time=  10.1s\n",
      "[CV] END max_depth=180, min_samples_leaf=2, min_samples_split=2, n_estimators=2100; total time=   9.3s\n",
      "[CV] END max_depth=180, min_samples_leaf=2, min_samples_split=2, n_estimators=2200; total time=  10.1s\n",
      "[CV] END max_depth=180, min_samples_leaf=2, min_samples_split=2, n_estimators=2300; total time=  11.3s\n",
      "[CV] END max_depth=180, min_samples_leaf=2, min_samples_split=3, n_estimators=2100; total time=  11.4s\n",
      "[CV] END max_depth=180, min_samples_leaf=2, min_samples_split=3, n_estimators=2200; total time=   8.3s\n",
      "[CV] END max_depth=180, min_samples_leaf=2, min_samples_split=3, n_estimators=2250; total time=  10.1s\n",
      "[CV] END max_depth=180, min_samples_leaf=2, min_samples_split=4, n_estimators=2100; total time=   8.5s\n",
      "[CV] END max_depth=180, min_samples_leaf=2, min_samples_split=4, n_estimators=2150; total time=   8.3s\n",
      "[CV] END max_depth=180, min_samples_leaf=2, min_samples_split=4, n_estimators=2250; total time=  10.7s\n",
      "[CV] END max_depth=180, min_samples_leaf=3, min_samples_split=2, n_estimators=2100; total time=  11.0s\n",
      "[CV] END max_depth=180, min_samples_leaf=3, min_samples_split=2, n_estimators=2150; total time=   7.9s\n",
      "[CV] END max_depth=180, min_samples_leaf=3, min_samples_split=2, n_estimators=2250; total time=   7.5s\n",
      "[CV] END max_depth=180, min_samples_leaf=3, min_samples_split=2, n_estimators=2300; total time=   9.4s\n",
      "[CV] END max_depth=180, min_samples_leaf=3, min_samples_split=3, n_estimators=2150; total time=   7.3s\n",
      "[CV] END max_depth=180, min_samples_leaf=3, min_samples_split=3, n_estimators=2250; total time=   8.2s\n",
      "[CV] END max_depth=180, min_samples_leaf=3, min_samples_split=3, n_estimators=2300; total time=   9.6s\n",
      "[CV] END max_depth=180, min_samples_leaf=3, min_samples_split=4, n_estimators=2150; total time=   7.8s\n",
      "[CV] END max_depth=180, min_samples_leaf=3, min_samples_split=4, n_estimators=2200; total time=  10.2s\n",
      "[CV] END max_depth=180, min_samples_leaf=3, min_samples_split=4, n_estimators=2300; total time=  10.0s\n",
      "[CV] END max_depth=180, min_samples_leaf=4, min_samples_split=2, n_estimators=2150; total time=   8.6s\n",
      "[CV] END max_depth=180, min_samples_leaf=4, min_samples_split=2, n_estimators=2200; total time=   8.6s\n",
      "[CV] END max_depth=180, min_samples_leaf=4, min_samples_split=2, n_estimators=2300; total time=   8.1s\n",
      "[CV] END max_depth=180, min_samples_leaf=4, min_samples_split=3, n_estimators=2100; total time=   7.1s\n",
      "[CV] END max_depth=180, min_samples_leaf=4, min_samples_split=3, n_estimators=2200; total time=   9.4s\n",
      "[CV] END max_depth=180, min_samples_leaf=4, min_samples_split=3, n_estimators=2300; total time=  11.8s\n",
      "[CV] END max_depth=180, min_samples_leaf=4, min_samples_split=4, n_estimators=2100; total time=  10.6s\n",
      "[CV] END max_depth=180, min_samples_leaf=4, min_samples_split=4, n_estimators=2200; total time=  10.3s\n",
      "[CV] END max_depth=180, min_samples_leaf=4, min_samples_split=4, n_estimators=2250; total time=   8.6s\n",
      "[CV] END max_depth=180, min_samples_leaf=5, min_samples_split=2, n_estimators=2100; total time=   9.8s\n",
      "[CV] END max_depth=180, min_samples_leaf=5, min_samples_split=2, n_estimators=2200; total time=  10.7s\n",
      "[CV] END max_depth=180, min_samples_leaf=5, min_samples_split=2, n_estimators=2250; total time=   8.2s\n",
      "[CV] END max_depth=180, min_samples_leaf=5, min_samples_split=3, n_estimators=2100; total time=   8.3s\n",
      "[CV] END max_depth=180, min_samples_leaf=5, min_samples_split=3, n_estimators=2150; total time=   6.7s\n",
      "[CV] END max_depth=180, min_samples_leaf=5, min_samples_split=3, n_estimators=2250; total time=   7.0s\n",
      "[CV] END max_depth=180, min_samples_leaf=5, min_samples_split=4, n_estimators=2100; total time=   7.2s\n",
      "[CV] END max_depth=180, min_samples_leaf=5, min_samples_split=4, n_estimators=2150; total time=   9.5s\n",
      "[CV] END max_depth=180, min_samples_leaf=5, min_samples_split=4, n_estimators=2250; total time=  11.5s\n",
      "[CV] END max_depth=180, min_samples_leaf=5, min_samples_split=4, n_estimators=2300; total time=   8.2s\n",
      "[CV] END max_depth=190, min_samples_leaf=2, min_samples_split=2, n_estimators=2150; total time=   8.5s\n",
      "[CV] END max_depth=190, min_samples_leaf=2, min_samples_split=2, n_estimators=2250; total time=   7.7s\n",
      "[CV] END max_depth=190, min_samples_leaf=2, min_samples_split=2, n_estimators=2300; total time=   7.8s\n",
      "[CV] END max_depth=190, min_samples_leaf=2, min_samples_split=3, n_estimators=2150; total time=   7.7s\n",
      "[CV] END max_depth=190, min_samples_leaf=2, min_samples_split=3, n_estimators=2200; total time=   8.4s\n",
      "[CV] END max_depth=190, min_samples_leaf=2, min_samples_split=3, n_estimators=2300; total time=   9.0s\n",
      "[CV] END max_depth=190, min_samples_leaf=2, min_samples_split=4, n_estimators=2100; total time=   7.9s\n",
      "[CV] END max_depth=190, min_samples_leaf=2, min_samples_split=4, n_estimators=2200; total time=   7.2s\n",
      "[CV] END max_depth=190, min_samples_leaf=2, min_samples_split=4, n_estimators=2300; total time=   7.8s\n",
      "[CV] END max_depth=190, min_samples_leaf=3, min_samples_split=2, n_estimators=2100; total time=   7.6s\n",
      "[CV] END max_depth=190, min_samples_leaf=3, min_samples_split=2, n_estimators=2200; total time=   7.8s\n",
      "[CV] END max_depth=190, min_samples_leaf=3, min_samples_split=2, n_estimators=2250; total time=   7.5s\n",
      "[CV] END max_depth=190, min_samples_leaf=3, min_samples_split=3, n_estimators=2100; total time=   9.7s\n",
      "[CV] END max_depth=190, min_samples_leaf=3, min_samples_split=3, n_estimators=2200; total time=   9.8s\n",
      "[CV] END max_depth=190, min_samples_leaf=3, min_samples_split=3, n_estimators=2250; total time=   9.7s\n",
      "[CV] END max_depth=190, min_samples_leaf=3, min_samples_split=4, n_estimators=2100; total time=   8.0s\n",
      "[CV] END max_depth=190, min_samples_leaf=3, min_samples_split=4, n_estimators=2150; total time=   9.8s\n",
      "[CV] END max_depth=190, min_samples_leaf=3, min_samples_split=4, n_estimators=2250; total time=   9.8s\n",
      "[CV] END max_depth=190, min_samples_leaf=4, min_samples_split=2, n_estimators=2100; total time=   9.6s\n",
      "[CV] END max_depth=190, min_samples_leaf=4, min_samples_split=2, n_estimators=2150; total time=   9.6s\n",
      "[CV] END max_depth=190, min_samples_leaf=4, min_samples_split=2, n_estimators=2250; total time=   8.6s\n",
      "[CV] END max_depth=190, min_samples_leaf=4, min_samples_split=2, n_estimators=2300; total time=   8.2s\n",
      "[CV] END max_depth=190, min_samples_leaf=4, min_samples_split=3, n_estimators=2150; total time=   6.9s\n",
      "[CV] END max_depth=190, min_samples_leaf=4, min_samples_split=3, n_estimators=2250; total time=   9.2s\n",
      "[CV] END max_depth=190, min_samples_leaf=4, min_samples_split=3, n_estimators=2300; total time=   8.0s\n",
      "[CV] END max_depth=190, min_samples_leaf=4, min_samples_split=4, n_estimators=2150; total time=   8.3s\n",
      "[CV] END max_depth=190, min_samples_leaf=4, min_samples_split=4, n_estimators=2200; total time=   8.3s\n",
      "[CV] END max_depth=190, min_samples_leaf=4, min_samples_split=4, n_estimators=2300; total time=   7.9s\n",
      "[CV] END max_depth=190, min_samples_leaf=5, min_samples_split=2, n_estimators=2150; total time=   6.7s\n",
      "[CV] END max_depth=190, min_samples_leaf=5, min_samples_split=2, n_estimators=2200; total time=   8.0s\n",
      "[CV] END max_depth=190, min_samples_leaf=5, min_samples_split=2, n_estimators=2300; total time=   7.2s\n",
      "[CV] END max_depth=190, min_samples_leaf=5, min_samples_split=3, n_estimators=2100; total time=   6.9s\n",
      "[CV] END max_depth=190, min_samples_leaf=5, min_samples_split=3, n_estimators=2200; total time=   8.6s\n",
      "[CV] END max_depth=190, min_samples_leaf=5, min_samples_split=3, n_estimators=2300; total time=   9.3s\n",
      "[CV] END max_depth=190, min_samples_leaf=5, min_samples_split=4, n_estimators=2100; total time=   7.8s\n",
      "[CV] END max_depth=190, min_samples_leaf=5, min_samples_split=4, n_estimators=2200; total time=   7.7s\n",
      "[CV] END max_depth=190, min_samples_leaf=5, min_samples_split=4, n_estimators=2250; total time=   7.2s\n",
      "[CV] END max_depth=200, min_samples_leaf=2, min_samples_split=2, n_estimators=2100; total time=   7.1s\n",
      "[CV] END max_depth=200, min_samples_leaf=2, min_samples_split=2, n_estimators=2200; total time=   7.9s\n",
      "[CV] END max_depth=200, min_samples_leaf=2, min_samples_split=2, n_estimators=2250; total time=   8.0s\n",
      "[CV] END max_depth=200, min_samples_leaf=2, min_samples_split=3, n_estimators=2100; total time=   6.9s\n",
      "[CV] END max_depth=200, min_samples_leaf=2, min_samples_split=3, n_estimators=2150; total time=   8.8s\n"
     ]
    },
    {
     "data": {
      "text/html": [
       "<style>#sk-container-id-3 {color: black;background-color: white;}#sk-container-id-3 pre{padding: 0;}#sk-container-id-3 div.sk-toggleable {background-color: white;}#sk-container-id-3 label.sk-toggleable__label {cursor: pointer;display: block;width: 100%;margin-bottom: 0;padding: 0.3em;box-sizing: border-box;text-align: center;}#sk-container-id-3 label.sk-toggleable__label-arrow:before {content: \"▸\";float: left;margin-right: 0.25em;color: #696969;}#sk-container-id-3 label.sk-toggleable__label-arrow:hover:before {color: black;}#sk-container-id-3 div.sk-estimator:hover label.sk-toggleable__label-arrow:before {color: black;}#sk-container-id-3 div.sk-toggleable__content {max-height: 0;max-width: 0;overflow: hidden;text-align: left;background-color: #f0f8ff;}#sk-container-id-3 div.sk-toggleable__content pre {margin: 0.2em;color: black;border-radius: 0.25em;background-color: #f0f8ff;}#sk-container-id-3 input.sk-toggleable__control:checked~div.sk-toggleable__content {max-height: 200px;max-width: 100%;overflow: auto;}#sk-container-id-3 input.sk-toggleable__control:checked~label.sk-toggleable__label-arrow:before {content: \"▾\";}#sk-container-id-3 div.sk-estimator input.sk-toggleable__control:checked~label.sk-toggleable__label {background-color: #d4ebff;}#sk-container-id-3 div.sk-label input.sk-toggleable__control:checked~label.sk-toggleable__label {background-color: #d4ebff;}#sk-container-id-3 input.sk-hidden--visually {border: 0;clip: rect(1px 1px 1px 1px);clip: rect(1px, 1px, 1px, 1px);height: 1px;margin: -1px;overflow: hidden;padding: 0;position: absolute;width: 1px;}#sk-container-id-3 div.sk-estimator {font-family: monospace;background-color: #f0f8ff;border: 1px dotted black;border-radius: 0.25em;box-sizing: border-box;margin-bottom: 0.5em;}#sk-container-id-3 div.sk-estimator:hover {background-color: #d4ebff;}#sk-container-id-3 div.sk-parallel-item::after {content: \"\";width: 100%;border-bottom: 1px solid gray;flex-grow: 1;}#sk-container-id-3 div.sk-label:hover label.sk-toggleable__label {background-color: #d4ebff;}#sk-container-id-3 div.sk-serial::before {content: \"\";position: absolute;border-left: 1px solid gray;box-sizing: border-box;top: 0;bottom: 0;left: 50%;z-index: 0;}#sk-container-id-3 div.sk-serial {display: flex;flex-direction: column;align-items: center;background-color: white;padding-right: 0.2em;padding-left: 0.2em;position: relative;}#sk-container-id-3 div.sk-item {position: relative;z-index: 1;}#sk-container-id-3 div.sk-parallel {display: flex;align-items: stretch;justify-content: center;background-color: white;position: relative;}#sk-container-id-3 div.sk-item::before, #sk-container-id-3 div.sk-parallel-item::before {content: \"\";position: absolute;border-left: 1px solid gray;box-sizing: border-box;top: 0;bottom: 0;left: 50%;z-index: -1;}#sk-container-id-3 div.sk-parallel-item {display: flex;flex-direction: column;z-index: 1;position: relative;background-color: white;}#sk-container-id-3 div.sk-parallel-item:first-child::after {align-self: flex-end;width: 50%;}#sk-container-id-3 div.sk-parallel-item:last-child::after {align-self: flex-start;width: 50%;}#sk-container-id-3 div.sk-parallel-item:only-child::after {width: 0;}#sk-container-id-3 div.sk-dashed-wrapped {border: 1px dashed gray;margin: 0 0.4em 0.5em 0.4em;box-sizing: border-box;padding-bottom: 0.4em;background-color: white;}#sk-container-id-3 div.sk-label label {font-family: monospace;font-weight: bold;display: inline-block;line-height: 1.2em;}#sk-container-id-3 div.sk-label-container {text-align: center;}#sk-container-id-3 div.sk-container {/* jupyter's `normalize.less` sets `[hidden] { display: none; }` but bootstrap.min.css set `[hidden] { display: none !important; }` so we also need the `!important` here to be able to override the default hidden behavior on the sphinx rendered scikit-learn.org. See: https://github.com/scikit-learn/scikit-learn/issues/21755 */display: inline-block !important;position: relative;}#sk-container-id-3 div.sk-text-repr-fallback {display: none;}</style><div id=\"sk-container-id-3\" class=\"sk-top-container\"><div class=\"sk-text-repr-fallback\"><pre>GridSearchCV(cv=5, estimator=RandomForestClassifier(criterion=&#x27;entropy&#x27;),\n",
       "             n_jobs=8,\n",
       "             param_grid={&#x27;max_depth&#x27;: [170, 180, 190, 200, 210, 220],\n",
       "                         &#x27;min_samples_leaf&#x27;: [2, 3, 4, 5],\n",
       "                         &#x27;min_samples_split&#x27;: [2, 3, 4],\n",
       "                         &#x27;n_estimators&#x27;: array([2100, 2150, 2200, 2250, 2300])},\n",
       "             verbose=2)</pre><b>In a Jupyter environment, please rerun this cell to show the HTML representation or trust the notebook. <br />On GitHub, the HTML representation is unable to render, please try loading this page with nbviewer.org.</b></div><div class=\"sk-container\" hidden><div class=\"sk-item sk-dashed-wrapped\"><div class=\"sk-label-container\"><div class=\"sk-label sk-toggleable\"><input class=\"sk-toggleable__control sk-hidden--visually\" id=\"sk-estimator-id-7\" type=\"checkbox\" ><label for=\"sk-estimator-id-7\" class=\"sk-toggleable__label sk-toggleable__label-arrow\">GridSearchCV</label><div class=\"sk-toggleable__content\"><pre>GridSearchCV(cv=5, estimator=RandomForestClassifier(criterion=&#x27;entropy&#x27;),\n",
       "             n_jobs=8,\n",
       "             param_grid={&#x27;max_depth&#x27;: [170, 180, 190, 200, 210, 220],\n",
       "                         &#x27;min_samples_leaf&#x27;: [2, 3, 4, 5],\n",
       "                         &#x27;min_samples_split&#x27;: [2, 3, 4],\n",
       "                         &#x27;n_estimators&#x27;: array([2100, 2150, 2200, 2250, 2300])},\n",
       "             verbose=2)</pre></div></div></div><div class=\"sk-parallel\"><div class=\"sk-parallel-item\"><div class=\"sk-item\"><div class=\"sk-label-container\"><div class=\"sk-label sk-toggleable\"><input class=\"sk-toggleable__control sk-hidden--visually\" id=\"sk-estimator-id-8\" type=\"checkbox\" ><label for=\"sk-estimator-id-8\" class=\"sk-toggleable__label sk-toggleable__label-arrow\">estimator: RandomForestClassifier</label><div class=\"sk-toggleable__content\"><pre>RandomForestClassifier(criterion=&#x27;entropy&#x27;)</pre></div></div></div><div class=\"sk-serial\"><div class=\"sk-item\"><div class=\"sk-estimator sk-toggleable\"><input class=\"sk-toggleable__control sk-hidden--visually\" id=\"sk-estimator-id-9\" type=\"checkbox\" ><label for=\"sk-estimator-id-9\" class=\"sk-toggleable__label sk-toggleable__label-arrow\">RandomForestClassifier</label><div class=\"sk-toggleable__content\"><pre>RandomForestClassifier(criterion=&#x27;entropy&#x27;)</pre></div></div></div></div></div></div></div></div></div></div>"
      ],
      "text/plain": [
       "GridSearchCV(cv=5, estimator=RandomForestClassifier(criterion='entropy'),\n",
       "             n_jobs=8,\n",
       "             param_grid={'max_depth': [170, 180, 190, 200, 210, 220],\n",
       "                         'min_samples_leaf': [2, 3, 4, 5],\n",
       "                         'min_samples_split': [2, 3, 4],\n",
       "                         'n_estimators': array([2100, 2150, 2200, 2250, 2300])},\n",
       "             verbose=2)"
      ]
     },
     "execution_count": 248,
     "metadata": {},
     "output_type": "execute_result"
    }
   ],
   "source": [
    "from sklearn.model_selection import GridSearchCV\n",
    "\n",
    "# Base model\n",
    "rf_grid = RandomForestClassifier(criterion = 'entropy', bootstrap = True)\n",
    "# Instantiate the grid search model\n",
    "grid_rf_search = GridSearchCV(estimator = rf_grid, param_grid = param_grid, \n",
    "                          cv = 5, n_jobs = 8, verbose = 2)\n",
    "grid_rf_search.fit(X_train, y_train)"
   ]
  },
  {
   "cell_type": "markdown",
   "id": "e95e1be7-7b9d-4a6a-bbf0-b1a318e91e68",
   "metadata": {},
   "source": [
    "And view what it found to be the most optimal set of parameters"
   ]
  },
  {
   "cell_type": "code",
   "execution_count": 249,
   "id": "d861b0e9-aad8-4f22-b4d4-0a740c52d0f2",
   "metadata": {},
   "outputs": [
    {
     "data": {
      "text/plain": [
       "{'max_depth': 170,\n",
       " 'min_samples_leaf': 5,\n",
       " 'min_samples_split': 4,\n",
       " 'n_estimators': 2100}"
      ]
     },
     "execution_count": 249,
     "metadata": {},
     "output_type": "execute_result"
    }
   ],
   "source": [
    "best_rf_grid = grid_rf_search.best_estimator_\n",
    "grid_rf_search.best_params_"
   ]
  },
  {
   "cell_type": "markdown",
   "id": "b2e9fcb7-600e-4a17-ab89-bbb3df65c35f",
   "metadata": {},
   "source": [
    "Now we can evaluate this model to determine it’s accuracy and performance."
   ]
  },
  {
   "cell_type": "code",
   "execution_count": 264,
   "id": "7709c72f-1aa7-4d1e-b37c-c32e7c923a34",
   "metadata": {},
   "outputs": [
    {
     "name": "stdout",
     "output_type": "stream",
     "text": [
      "0.9035326086956522\n",
      "0.8315217391304348\n"
     ]
    }
   ],
   "source": [
    "print(grid_rf_search.score(X_train, y_train))\n",
    "print(grid_rf_search.score(X_test, y_test))"
   ]
  },
  {
   "cell_type": "markdown",
   "id": "7d80f548-8280-4ca0-a546-63280181a013",
   "metadata": {},
   "source": [
    "As we can see, it performed better than the randomized search but was significantly more computationally expensive. Now, lets use these hyperparameters."
   ]
  },
  {
   "cell_type": "markdown",
   "id": "12b1b4da-630f-4005-97d6-3eb9ede2276a",
   "metadata": {},
   "source": [
    "### Performing KFold validation"
   ]
  },
  {
   "cell_type": "code",
   "execution_count": 276,
   "id": "d2bf8698-c6b7-44f6-900e-4f281965e192",
   "metadata": {},
   "outputs": [],
   "source": [
    "from sklearn.model_selection import KFold\n",
    "kf = KFold(n_splits=5)\n",
    "CV_indices = kf.split(X_train, y_train)"
   ]
  },
  {
   "cell_type": "code",
   "execution_count": 280,
   "id": "00baf3a3-a4cc-4c75-98be-40aa782f60ee",
   "metadata": {},
   "outputs": [
    {
     "name": "stdout",
     "output_type": "stream",
     "text": [
      "TRAIN: (588,) TEST: (148,)\n",
      "TRAIN: (589,) TEST: (147,)\n",
      "TRAIN: (589,) TEST: (147,)\n",
      "TRAIN: (589,) TEST: (147,)\n",
      "TRAIN: (589,) TEST: (147,)\n"
     ]
    }
   ],
   "source": [
    "for train_index, test_index in CV_indices:\n",
    "    print(\"TRAIN:\", train_index.shape, \"TEST:\", test_index.shape)"
   ]
  },
  {
   "cell_type": "code",
   "execution_count": 281,
   "id": "b0747588-ef24-4368-9e0e-49438cb3c534",
   "metadata": {},
   "outputs": [],
   "source": [
    "from sklearn.model_selection import cross_validate"
   ]
  },
  {
   "cell_type": "code",
   "execution_count": 291,
   "id": "3a6bb012-a4a6-4f74-adb2-00ca0e52aa77",
   "metadata": {},
   "outputs": [
    {
     "name": "stdout",
     "output_type": "stream",
     "text": [
      "X_train min. value: 0.0, max. value: 1.0\n"
     ]
    }
   ],
   "source": [
    "# We will apply the classifiers on the normalized dataset\n",
    "\n",
    "from sklearn.preprocessing import MinMaxScaler\n",
    "\n",
    "scaler = MinMaxScaler()\n",
    "df_X_norm = scaler.fit_transform(df_X)\n",
    "\n",
    "print(f\"X_train min. value: {X_train.min()}, max. value: {X_train.max()}\")"
   ]
  },
  {
   "cell_type": "code",
   "execution_count": null,
   "id": "9ec7acb1-5685-4763-9a7a-c106760642d6",
   "metadata": {},
   "outputs": [],
   "source": []
  },
  {
   "cell_type": "code",
   "execution_count": null,
   "id": "22ad4314-d7d1-48f2-90ad-71bff318fca4",
   "metadata": {},
   "outputs": [],
   "source": []
  },
  {
   "cell_type": "code",
   "execution_count": 292,
   "id": "bd06dc44-4050-4172-bf81-f72121174103",
   "metadata": {},
   "outputs": [],
   "source": [
    "from sklearn.ensemble import RandomForestClassifier\n",
    "\n",
    "MODELS_TO_TEST = {\n",
    "    \"RF_2100\": RandomForestClassifier(n_estimators=2100, max_depth=170, min_samples_leaf=5)\n",
    "}\n",
    "\n",
    "# Define the number of splits \n",
    "NUMBER_OF_SPLITS = 4\n",
    "\n",
    "# Scoring metrics\n",
    "SCORING_METRICS = [\"accuracy\", \"precision_macro\", \"recall_macro\", \"f1_macro\"] # Metrics of interest\n",
    "\n",
    "# Create empty DataFrame to populate  the name of the classifier and the six values returned from `cross_validate()`\n",
    "results_evaluation = pd.DataFrame({\n",
    "                                    \"classifier_name\":[],\n",
    "                                    \"fit_time\": [],\n",
    "                                    \"score_time\": [],\n",
    "                                    \"test_accuracy\": [],\n",
    "                                    \"test_precision_macro\": [],\n",
    "                                    \"test_recall_macro\": [],\n",
    "                                    \"test_f1_macro\": [],\n",
    "                                    })"
   ]
  },
  {
   "cell_type": "code",
   "execution_count": 293,
   "id": "e26702e9-f4a9-4152-9be2-9750585fc4f6",
   "metadata": {},
   "outputs": [
    {
     "name": "stdout",
     "output_type": "stream",
     "text": [
      "Currently training the classifier RF_2100.\n",
      "The experimental setup has finished\n"
     ]
    }
   ],
   "source": [
    "#### ITERATION FOR THE EXPERIMENT\n",
    "\n",
    "for name, classifier in MODELS_TO_TEST.items():\n",
    "    \n",
    "    print(f\"Currently training the classifier {name}.\")\n",
    "\n",
    "    # Get the evaluation metrics per fold after cross-validation\n",
    "    # Note that we are passing the normalized array `df_X_norm` to all classifiers\n",
    "    scores_cv = cross_validate(classifier, X_train, y_train, cv=NUMBER_OF_SPLITS, scoring=SCORING_METRICS)\n",
    "\n",
    "    # Average the scores among folds\n",
    "    dict_this_result = {\n",
    "                    \"classifier_name\":[name],\n",
    "                    }\n",
    "    # Populate the dictionary with the results of the cross-validation\n",
    "    for metric_name, score_per_fold in scores_cv.items():\n",
    "        dict_this_result[metric_name] = [ scores_cv[metric_name].mean() ]\n",
    "\n",
    "    #### Generate the results to populate the pandas.DataFrame\n",
    "    this_result = pd.DataFrame(dict_this_result)\n",
    "\n",
    "    # Append to the main dataframe with the results \n",
    "    results_evaluation = pd.concat([results_evaluation, this_result], ignore_index=True)\n",
    "\n",
    "print(\"The experimental setup has finished\")"
   ]
  },
  {
   "cell_type": "code",
   "execution_count": 294,
   "id": "5d3807a8-c4b4-4c79-b23b-80e3b4d7b4f4",
   "metadata": {},
   "outputs": [
    {
     "data": {
      "text/html": [
       "<div>\n",
       "<style scoped>\n",
       "    .dataframe tbody tr th:only-of-type {\n",
       "        vertical-align: middle;\n",
       "    }\n",
       "\n",
       "    .dataframe tbody tr th {\n",
       "        vertical-align: top;\n",
       "    }\n",
       "\n",
       "    .dataframe thead th {\n",
       "        text-align: right;\n",
       "    }\n",
       "</style>\n",
       "<table border=\"1\" class=\"dataframe\">\n",
       "  <thead>\n",
       "    <tr style=\"text-align: right;\">\n",
       "      <th></th>\n",
       "      <th>classifier_name</th>\n",
       "      <th>fit_time</th>\n",
       "      <th>score_time</th>\n",
       "      <th>test_accuracy</th>\n",
       "      <th>test_precision_macro</th>\n",
       "      <th>test_recall_macro</th>\n",
       "      <th>test_f1_macro</th>\n",
       "    </tr>\n",
       "  </thead>\n",
       "  <tbody>\n",
       "    <tr>\n",
       "      <th>0</th>\n",
       "      <td>RF_2100</td>\n",
       "      <td>2.682705</td>\n",
       "      <td>0.238822</td>\n",
       "      <td>0.839674</td>\n",
       "      <td>0.839099</td>\n",
       "      <td>0.842297</td>\n",
       "      <td>0.838831</td>\n",
       "    </tr>\n",
       "  </tbody>\n",
       "</table>\n",
       "</div>"
      ],
      "text/plain": [
       "  classifier_name  fit_time  score_time  test_accuracy  test_precision_macro  \\\n",
       "0         RF_2100  2.682705    0.238822       0.839674              0.839099   \n",
       "\n",
       "   test_recall_macro  test_f1_macro  \n",
       "0           0.842297       0.838831  "
      ]
     },
     "execution_count": 294,
     "metadata": {},
     "output_type": "execute_result"
    }
   ],
   "source": [
    "results_evaluation"
   ]
  },
  {
   "cell_type": "markdown",
   "id": "7621b85d-9ce1-4467-a768-5b9bf1709ebd",
   "metadata": {},
   "source": [
    "### Visualization"
   ]
  },
  {
   "cell_type": "code",
   "execution_count": 296,
   "id": "bd68fa0d-dc32-4e38-8dd2-74011210213a",
   "metadata": {},
   "outputs": [
    {
     "data": {
      "image/png": "[encoded data removed]",
      "text/plain": [
       "<Figure size 640x480 with 1 Axes>"
      ]
     },
     "metadata": {},
     "output_type": "display_data"
    }
   ],
   "source": [
    "average_time_classifier.plot.barh()\n",
    "plt.title(\"Average time per classifier among dataset\")\n",
    "plt.xlabel(\"Time (s)\")\n",
    "plt.show()"
   ]
  },
  {
   "cell_type": "code",
   "execution_count": 297,
   "id": "16da979d-403f-43ba-84e1-75b71b3e74eb",
   "metadata": {},
   "outputs": [
    {
     "data": {
      "text/html": [
       "<div>\n",
       "<style scoped>\n",
       "    .dataframe tbody tr th:only-of-type {\n",
       "        vertical-align: middle;\n",
       "    }\n",
       "\n",
       "    .dataframe tbody tr th {\n",
       "        vertical-align: top;\n",
       "    }\n",
       "\n",
       "    .dataframe thead th {\n",
       "        text-align: right;\n",
       "    }\n",
       "</style>\n",
       "<table border=\"1\" class=\"dataframe\">\n",
       "  <thead>\n",
       "    <tr style=\"text-align: right;\">\n",
       "      <th></th>\n",
       "      <th>test_f1_macro</th>\n",
       "    </tr>\n",
       "    <tr>\n",
       "      <th>classifier_name</th>\n",
       "      <th></th>\n",
       "    </tr>\n",
       "  </thead>\n",
       "  <tbody>\n",
       "    <tr>\n",
       "      <th>RF_2100</th>\n",
       "      <td>0.838831</td>\n",
       "    </tr>\n",
       "  </tbody>\n",
       "</table>\n",
       "</div>"
      ],
      "text/plain": [
       "                 test_f1_macro\n",
       "classifier_name               \n",
       "RF_2100               0.838831"
      ]
     },
     "execution_count": 297,
     "metadata": {},
     "output_type": "execute_result"
    }
   ],
   "source": [
    "accuracy_classifier = results_evaluation.groupby(by=[\"classifier_name\"]).mean()\n",
    "accuracy_classifier.drop([\"test_accuracy\", \"fit_time\", \"score_time\", \"test_precision_macro\", \"test_recall_macro\"],axis=1,inplace=True) # Delete unnecessary features\n",
    "#accuracy_classifier[\"total_time\"] = average_time_classifier[\"fit_time\"] + average_time_classifier[\"score_time\"] # Create new features\n",
    "accuracy_classifier"
   ]
  },
  {
   "cell_type": "code",
   "execution_count": 298,
   "id": "94670f7e-9cc2-43bf-8d22-82e83bd02fa0",
   "metadata": {},
   "outputs": [
    {
     "data": {
      "image/png": "[encoded data removed]",
      "text/plain": [
       "<Figure size 640x480 with 1 Axes>"
      ]
     },
     "metadata": {},
     "output_type": "display_data"
    }
   ],
   "source": [
    "accuracy_classifier.plot.barh()\n",
    "plt.title(\"Macro-F1 score per classifier\")\n",
    "plt.xlabel(\"Time (s)\")\n",
    "plt.show()"
   ]
  },
  {
   "cell_type": "code",
   "execution_count": null,
   "id": "fd340613-3aa6-42e4-ab7a-f940979ac67f",
   "metadata": {},
   "outputs": [],
   "source": []
  },
  {
   "cell_type": "code",
   "execution_count": null,
   "id": "cf6dadb9-9f4d-4551-b0da-f3e2e6e510ac",
   "metadata": {},
   "outputs": [],
   "source": []
  },
  {
   "cell_type": "code",
   "execution_count": null,
   "id": "c4798c2a-f8dd-4b7d-84bf-c33f646f93e3",
   "metadata": {},
   "outputs": [],
   "source": []
  },
  {
   "cell_type": "code",
   "execution_count": null,
   "id": "a760aaa3-fa14-4147-9eaf-99741e39c124",
   "metadata": {},
   "outputs": [],
   "source": []
  },
  {
   "cell_type": "code",
   "execution_count": null,
   "id": "06bef0af-2668-4bbb-8d02-b6f9795fe55d",
   "metadata": {},
   "outputs": [],
   "source": []
  },
  {
   "cell_type": "code",
   "execution_count": null,
   "id": "1872a04c-f260-4711-9155-c58f5e677a4d",
   "metadata": {},
   "outputs": [],
   "source": []
  },
  {
   "cell_type": "code",
   "execution_count": null,
   "id": "f9ece312-99d3-45a4-82d2-bc3b79239ce7",
   "metadata": {},
   "outputs": [],
   "source": []
  },
  {
   "cell_type": "code",
   "execution_count": null,
   "id": "b62f48ac-a458-49a2-b8a5-0b9d7b40a1a4",
   "metadata": {},
   "outputs": [],
   "source": []
  }
 ],
 "metadata": {
  "kernelspec": {
   "display_name": "Python 3 (ipykernel)",
   "language": "python",
   "name": "python3"
  },
  "language_info": {
   "codemirror_mode": {
    "name": "ipython",
    "version": 3
   },
   "file_extension": ".py",
   "mimetype": "text/x-python",
   "name": "python",
   "nbconvert_exporter": "python",
   "pygments_lexer": "ipython3",
   "version": "3.9.12"
  }
 },
 "nbformat": 4,
 "nbformat_minor": 5
}
