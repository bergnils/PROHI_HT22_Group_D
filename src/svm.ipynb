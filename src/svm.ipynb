{
 "cells": [
  {
   "cell_type": "code",
   "execution_count": 433,
   "metadata": {},
   "outputs": [],
   "source": [
    "# Import libraries to be used.\n",
    "import numpy as np\n",
    "import pandas as pd\n",
    "import matplotlib.pyplot as plt\n",
    "from math import floor\n",
    "\n",
    "from sklearn.svm import SVC\n",
    "from sklearn.model_selection import train_test_split, cross_validate, GridSearchCV\n",
    "from sklearn.feature_selection import chi2, SelectKBest\n",
    "from sklearn.metrics import SCORERS\n",
    "from sklearn.preprocessing import MinMaxScaler"
   ]
  },
  {
   "cell_type": "code",
   "execution_count": 434,
   "metadata": {},
   "outputs": [],
   "source": [
    "# Define a random state value\n",
    "RANDOM_STATE = 3030"
   ]
  },
  {
   "cell_type": "code",
   "execution_count": 435,
   "metadata": {},
   "outputs": [],
   "source": [
    "# Define column names which will be used instead of the ones in the datasets.\n",
    "column_names = [\n",
    "    \"age\", \"sex\", \"chest_pain_type\", \"rest_bp\", \"cholesterol\",\n",
    "    \"fasting_bs\", \"resting_ecg\", \"max_hr\", \"exercise_angina\", \"st_exercise_depression\",\n",
    "    \"st_exercise_slope\", \"major_vessels_fluorospy\", \"thal\", \"angiographic_disease\"\n",
    "]\n",
    "na_values = [\"?\"] # Define what values will be interpreted as missing values, in this dataset the \"?\" character is used for this.\n",
    "\n",
    "# Load all datasets using relative paths and combine into one dataframe.\n",
    "df = pd.concat([\n",
    "    pd.read_csv(\"../data/processed.cleveland.data\", names=column_names, na_values=na_values),\n",
    "    pd.read_csv(\"../data/processed.hungarian.data\", names=column_names, na_values=na_values),\n",
    "    pd.read_csv(\"../data/processed.switzerland.data\", names=column_names, na_values=na_values),\n",
    "    pd.read_csv(\"../data/processed.va.data\", names=column_names, na_values=na_values)\n",
    "]).drop(['st_exercise_slope', 'major_vessels_fluorospy', 'thal'], axis=1)"
   ]
  },
  {
   "cell_type": "code",
   "execution_count": 436,
   "metadata": {},
   "outputs": [],
   "source": [
    "df[df[\"angiographic_disease\"] > 1] = 1"
   ]
  },
  {
   "cell_type": "code",
   "execution_count": 437,
   "metadata": {},
   "outputs": [],
   "source": [
    "df['age'].fillna((df['age'].mean()), inplace=True)\n",
    "df['rest_bp'].fillna((df['rest_bp'].mean()), inplace=True)\n",
    "df['cholesterol'].fillna((df['cholesterol'].mean()), inplace=True)\n",
    "df['max_hr'].fillna((df['max_hr'].mean()), inplace=True)\n",
    "df['st_exercise_depression'].fillna((df['st_exercise_depression'].mean()), inplace=True)\n",
    "df = df.apply(lambda x:x.fillna(x.value_counts().index[0]))"
   ]
  },
  {
   "cell_type": "code",
   "execution_count": 438,
   "metadata": {},
   "outputs": [],
   "source": [
    "# Set category attributes\n",
    "df[\"sex\"] = df[\"sex\"].astype(\"category\")\n",
    "df[\"chest_pain_type\"] = df[\"chest_pain_type\"].astype(\"category\")\n",
    "df[\"fasting_bs\"] = df[\"fasting_bs\"].astype(\"category\")\n",
    "df[\"resting_ecg\"] = df[\"resting_ecg\"].astype(\"category\")\n",
    "df[\"exercise_angina\"] = df[\"exercise_angina\"].astype(\"category\")\n",
    "df[\"angiographic_disease\"] = df[\"angiographic_disease\"].astype(\"category\")"
   ]
  },
  {
   "cell_type": "code",
   "execution_count": 439,
   "metadata": {},
   "outputs": [],
   "source": [
    "df_X = df.drop([\"angiographic_disease\"], axis=1)"
   ]
  },
  {
   "cell_type": "code",
   "execution_count": 440,
   "metadata": {},
   "outputs": [],
   "source": [
    "X = MinMaxScaler().fit_transform(df_X.to_numpy())\n",
    "Y = df[\"angiographic_disease\"].to_numpy()"
   ]
  },
  {
   "cell_type": "code",
   "execution_count": 441,
   "metadata": {},
   "outputs": [],
   "source": [
    "X_train, X_test, Y_train, Y_test = train_test_split(X, Y, test_size=0.3, random_state=RANDOM_STATE)"
   ]
  },
  {
   "cell_type": "code",
   "execution_count": 442,
   "metadata": {},
   "outputs": [
    {
     "data": {
      "text/plain": [
       "age                       0\n",
       "sex                       0\n",
       "chest_pain_type           0\n",
       "rest_bp                   0\n",
       "cholesterol               0\n",
       "fasting_bs                0\n",
       "resting_ecg               0\n",
       "max_hr                    0\n",
       "exercise_angina           0\n",
       "st_exercise_depression    0\n",
       "angiographic_disease      0\n",
       "dtype: int64"
      ]
     },
     "execution_count": 442,
     "metadata": {},
     "output_type": "execute_result"
    }
   ],
   "source": [
    "df.isna().sum()"
   ]
  },
  {
   "cell_type": "code",
   "execution_count": 443,
   "metadata": {},
   "outputs": [
    {
     "data": {
      "text/plain": [
       "SVC()"
      ]
     },
     "execution_count": 443,
     "metadata": {},
     "output_type": "execute_result"
    }
   ],
   "source": [
    "svm = SVC()\n",
    "svm.fit(X=X_train, y=Y_train)"
   ]
  },
  {
   "cell_type": "code",
   "execution_count": 444,
   "metadata": {},
   "outputs": [
    {
     "data": {
      "text/plain": [
       "['accuracy',\n",
       " 'adjusted_mutual_info_score',\n",
       " 'adjusted_rand_score',\n",
       " 'average_precision',\n",
       " 'balanced_accuracy',\n",
       " 'completeness_score',\n",
       " 'explained_variance',\n",
       " 'f1',\n",
       " 'f1_macro',\n",
       " 'f1_micro',\n",
       " 'f1_samples',\n",
       " 'f1_weighted',\n",
       " 'fowlkes_mallows_score',\n",
       " 'homogeneity_score',\n",
       " 'jaccard',\n",
       " 'jaccard_macro',\n",
       " 'jaccard_micro',\n",
       " 'jaccard_samples',\n",
       " 'jaccard_weighted',\n",
       " 'max_error',\n",
       " 'mutual_info_score',\n",
       " 'neg_brier_score',\n",
       " 'neg_log_loss',\n",
       " 'neg_mean_absolute_error',\n",
       " 'neg_mean_absolute_percentage_error',\n",
       " 'neg_mean_gamma_deviance',\n",
       " 'neg_mean_poisson_deviance',\n",
       " 'neg_mean_squared_error',\n",
       " 'neg_mean_squared_log_error',\n",
       " 'neg_median_absolute_error',\n",
       " 'neg_root_mean_squared_error',\n",
       " 'normalized_mutual_info_score',\n",
       " 'precision',\n",
       " 'precision_macro',\n",
       " 'precision_micro',\n",
       " 'precision_samples',\n",
       " 'precision_weighted',\n",
       " 'r2',\n",
       " 'rand_score',\n",
       " 'recall',\n",
       " 'recall_macro',\n",
       " 'recall_micro',\n",
       " 'recall_samples',\n",
       " 'recall_weighted',\n",
       " 'roc_auc',\n",
       " 'roc_auc_ovo',\n",
       " 'roc_auc_ovo_weighted',\n",
       " 'roc_auc_ovr',\n",
       " 'roc_auc_ovr_weighted',\n",
       " 'top_k_accuracy',\n",
       " 'v_measure_score']"
      ]
     },
     "execution_count": 444,
     "metadata": {},
     "output_type": "execute_result"
    }
   ],
   "source": [
    "sorted(SCORERS.keys())"
   ]
  },
  {
   "cell_type": "code",
   "execution_count": 445,
   "metadata": {},
   "outputs": [
    {
     "data": {
      "text/plain": [
       "{'fit_time': array([0.02493477, 0.01495719, 0.01894784, 0.0149579 , 0.01695251]),\n",
       " 'score_time': array([0.03091741, 0.02394152, 0.03191209, 0.02493358, 0.01795006]),\n",
       " 'test_roc_auc': array([0.89311702, 0.81850789, 0.95659971, 0.90925395, 0.71006695]),\n",
       " 'test_f1_macro': array([0.84780811, 0.73801614, 0.83664773, 0.85842803, 0.65982291]),\n",
       " 'test_accuracy': array([0.84782609, 0.73913043, 0.83695652, 0.85869565, 0.69021739])}"
      ]
     },
     "execution_count": 445,
     "metadata": {},
     "output_type": "execute_result"
    }
   ],
   "source": [
    "scores = cross_validate(svm, X, Y, cv=5, scoring=[\"roc_auc\", \"f1_macro\", \"accuracy\"])\n",
    "scores"
   ]
  },
  {
   "cell_type": "code",
   "execution_count": 446,
   "metadata": {},
   "outputs": [
    {
     "name": "stdout",
     "output_type": "stream",
     "text": [
      "Running 5-CV with 2 features=['fasting_bs' 'exercise_angina']\n",
      "Running 5-CV with 4 features=['rest_bp' 'fasting_bs' 'max_hr' 'exercise_angina']\n",
      "Running 5-CV with 6 features=['age' 'rest_bp' 'cholesterol' 'fasting_bs' 'max_hr' 'exercise_angina']\n",
      "Running 5-CV with 8 features=['age' 'sex' 'chest_pain_type' 'rest_bp' 'cholesterol' 'fasting_bs'\n",
      " 'max_hr' 'exercise_angina']\n",
      "Running 5-CV with 10 features=['age' 'sex' 'chest_pain_type' 'rest_bp' 'cholesterol' 'fasting_bs'\n",
      " 'resting_ecg' 'max_hr' 'exercise_angina' 'st_exercise_depression']\n"
     ]
    }
   ],
   "source": [
    "my_results = {}\n",
    "features = df_X.columns\n",
    "calculated_scores = []\n",
    "\n",
    "for i in range(0, 5):\n",
    "    n_features = 2*(i+1)\n",
    "    select_k_best = SelectKBest(chi2, k=n_features).fit(X, Y)\n",
    "    X_new = select_k_best.transform(X)\n",
    "\n",
    "    index_name = \"{}_features\".format(n_features)\n",
    "    my_results[index_name] = {\"scores\": {}}\n",
    "\n",
    "    selected_features = select_k_best.get_feature_names_out(input_features=features)\n",
    "    my_results[index_name][\"features\"] = selected_features\n",
    "\n",
    "    print(\"Running 5-CV with {} features={}\".format(n_features, selected_features))\n",
    "    scores = cross_validate(svm, X_new, Y, cv=5, scoring=[\"roc_auc\", \"f1_macro\", \"accuracy\", 'recall', 'precision'])\n",
    "    for key in scores.keys():\n",
    "        if (\"test_\" in key):\n",
    "            score_name = key.split(\"test_\")[1]\n",
    "            if (score_name not in calculated_scores):\n",
    "                calculated_scores.append(score_name)\n",
    "            my_results[index_name][\"scores\"][score_name] = scores[key]"
   ]
  },
  {
   "cell_type": "code",
   "execution_count": 447,
   "metadata": {},
   "outputs": [
    {
     "data": {
      "image/png": "[encoded data removed]",
      "text/plain": [
       "<Figure size 720x576 with 1 Axes>"
      ]
     },
     "metadata": {
      "needs_background": "light"
     },
     "output_type": "display_data"
    },
    {
     "data": {
      "image/png": "[encoded data removed]",
      "text/plain": [
       "<Figure size 720x576 with 1 Axes>"
      ]
     },
     "metadata": {
      "needs_background": "light"
     },
     "output_type": "display_data"
    },
    {
     "data": {
      "image/png": "[encoded data removed]",
      "text/plain": [
       "<Figure size 720x576 with 1 Axes>"
      ]
     },
     "metadata": {
      "needs_background": "light"
     },
     "output_type": "display_data"
    },
    {
     "data": {
      "image/png": "[encoded data removed]",
      "text/plain": [
       "<Figure size 720x576 with 1 Axes>"
      ]
     },
     "metadata": {
      "needs_background": "light"
     },
     "output_type": "display_data"
    },
    {
     "data": {
      "image/png": "[encoded data removed]",
      "text/plain": [
       "<Figure size 720x576 with 1 Axes>"
      ]
     },
     "metadata": {
      "needs_background": "light"
     },
     "output_type": "display_data"
    }
   ],
   "source": [
    "scores_to_plot = {}\n",
    "for score_name in calculated_scores:\n",
    "    scores_to_plot[score_name] = {}\n",
    "    for feat_set in my_results.keys():\n",
    "        scores_to_plot[score_name][feat_set] = round(np.mean(my_results[feat_set][\"scores\"][score_name]), 3)\n",
    "    plt.figure(figsize=(10, 8))\n",
    "    plt.title(\"{} over feature sets\".format(score_name))\n",
    "    plt.grid()\n",
    "    plt.bar(scores_to_plot[score_name].keys(), scores_to_plot[score_name].values())"
   ]
  }
 ],
 "metadata": {
  "kernelspec": {
   "display_name": "Python 3.10.2 64-bit",
   "language": "python",
   "name": "python3"
  },
  "language_info": {
   "codemirror_mode": {
    "name": "ipython",
    "version": 3
   },
   "file_extension": ".py",
   "mimetype": "text/x-python",
   "name": "python",
   "nbconvert_exporter": "python",
   "pygments_lexer": "ipython3",
   "version": "3.10.2"
  },
  "orig_nbformat": 4,
  "vscode": {
   "interpreter": {
    "hash": "f3677f85b70f9de604df286b456b1e5b1756b616258f01f668e5acb48a46f7c2"
   }
  }
 },
 "nbformat": 4,
 "nbformat_minor": 2
}
