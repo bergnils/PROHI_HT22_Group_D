{
 "cells": [
  {
   "cell_type": "code",
   "execution_count": 41,
   "metadata": {},
   "outputs": [],
   "source": [
    "# Import libraries to be used.\n",
    "import numpy as np\n",
    "import pandas as pd\n",
    "import matplotlib.pyplot as plt\n",
    "\n",
    "from sklearn.svm import SVC\n",
    "from sklearn.model_selection import cross_validate, GridSearchCV\n",
    "from sklearn.feature_selection import chi2, SelectKBest\n",
    "from sklearn.preprocessing import MinMaxScaler"
   ]
  },
  {
   "cell_type": "code",
   "execution_count": 42,
   "metadata": {},
   "outputs": [],
   "source": [
    "# Define a random state value\n",
    "RANDOM_STATE = 3030"
   ]
  },
  {
   "cell_type": "code",
   "execution_count": 43,
   "metadata": {},
   "outputs": [],
   "source": [
    "# Define column names which will be used instead of the ones in the datasets.\n",
    "column_names = [\n",
    "    \"age\", \"sex\", \"chest_pain_type\", \"rest_bp\", \"cholesterol\",\n",
    "    \"fasting_bs\", \"resting_ecg\", \"max_hr\", \"exercise_angina\", \"st_exercise_depression\",\n",
    "    \"st_exercise_slope\", \"major_vessels_fluorospy\", \"thal\", \"angiographic_disease\"\n",
    "]\n",
    "na_values = [\"?\"] # Define what values will be interpreted as missing values, in this dataset the \"?\" character is used for this.\n",
    "\n",
    "# Load all datasets using relative paths and combine into one dataframe.\n",
    "df = pd.concat([\n",
    "    pd.read_csv(\"../data/processed.cleveland.data\", names=column_names, na_values=na_values),\n",
    "    pd.read_csv(\"../data/processed.hungarian.data\", names=column_names, na_values=na_values),\n",
    "    pd.read_csv(\"../data/processed.switzerland.data\", names=column_names, na_values=na_values),\n",
    "    pd.read_csv(\"../data/processed.va.data\", names=column_names, na_values=na_values)\n",
    "]).drop(['st_exercise_slope', 'major_vessels_fluorospy', 'thal'], axis=1)"
   ]
  },
  {
   "cell_type": "code",
   "execution_count": 44,
   "metadata": {},
   "outputs": [],
   "source": [
    "df[df[\"angiographic_disease\"] > 1] = 1"
   ]
  },
  {
   "cell_type": "code",
   "execution_count": 45,
   "metadata": {},
   "outputs": [],
   "source": [
    "df['age'].fillna((df['age'].mean()), inplace=True)\n",
    "df['rest_bp'].fillna((df['rest_bp'].mean()), inplace=True)\n",
    "df['cholesterol'].fillna((df['cholesterol'].mean()), inplace=True)\n",
    "df['max_hr'].fillna((df['max_hr'].mean()), inplace=True)\n",
    "df['st_exercise_depression'].fillna((df['st_exercise_depression'].mean()), inplace=True)\n",
    "df = df.apply(lambda x:x.fillna(x.value_counts().index[0]))"
   ]
  },
  {
   "cell_type": "code",
   "execution_count": 46,
   "metadata": {},
   "outputs": [],
   "source": [
    "# Set category attributes\n",
    "df[\"sex\"] = df[\"sex\"].astype(\"category\")\n",
    "df[\"chest_pain_type\"] = df[\"chest_pain_type\"].astype(\"category\")\n",
    "df[\"fasting_bs\"] = df[\"fasting_bs\"].astype(\"category\")\n",
    "df[\"resting_ecg\"] = df[\"resting_ecg\"].astype(\"category\")\n",
    "df[\"exercise_angina\"] = df[\"exercise_angina\"].astype(\"category\")\n",
    "df[\"angiographic_disease\"] = df[\"angiographic_disease\"].astype(\"category\")"
   ]
  },
  {
   "cell_type": "code",
   "execution_count": 47,
   "metadata": {},
   "outputs": [],
   "source": [
    "df_X = df.drop([\"angiographic_disease\"], axis=1)"
   ]
  },
  {
   "cell_type": "code",
   "execution_count": 48,
   "metadata": {},
   "outputs": [],
   "source": [
    "X = MinMaxScaler().fit_transform(df_X.to_numpy())\n",
    "Y = df[\"angiographic_disease\"].to_numpy()"
   ]
  },
  {
   "cell_type": "code",
   "execution_count": 49,
   "metadata": {},
   "outputs": [
    {
     "name": "stdout",
     "output_type": "stream",
     "text": [
      "Running 10-CV with features=['fasting_bs' 'exercise_angina'], estimator=SVC(C=1, kernel='linear', random_state=3030)\n",
      "Running 10-CV with features=['rest_bp' 'fasting_bs' 'max_hr' 'exercise_angina'], estimator=SVC(C=1, kernel='linear', random_state=3030)\n",
      "Running 10-CV with features=['age' 'rest_bp' 'cholesterol' 'fasting_bs' 'max_hr' 'exercise_angina'], estimator=SVC(C=1, kernel='linear', random_state=3030)\n",
      "Running 10-CV with features=['age' 'sex' 'chest_pain_type' 'rest_bp' 'cholesterol' 'fasting_bs'\n",
      " 'max_hr' 'exercise_angina'], estimator=SVC(C=1, kernel='poly', random_state=3030)\n",
      "Running 10-CV with features=['age' 'sex' 'chest_pain_type' 'rest_bp' 'cholesterol' 'fasting_bs'\n",
      " 'resting_ecg' 'max_hr' 'exercise_angina' 'st_exercise_depression'], estimator=SVC(C=10, kernel='linear', random_state=3030)\n"
     ]
    }
   ],
   "source": [
    "evaluation_results = {}\n",
    "calculated_scores = []\n",
    "SCORERS = [\"roc_auc\", \"f1_macro\", \"accuracy\", 'recall', 'precision', 'jaccard']\n",
    "GS_PARAMETERS = {'kernel':('linear', 'rbf', 'poly', 'sigmoid'), 'C':[1, 5, 10]}\n",
    "CV_K = 10\n",
    "\n",
    "for i in range(0, 5):\n",
    "    n_features = 2*(i+1)\n",
    "    # Find the best k features\n",
    "    select_k_best = SelectKBest(chi2, k=n_features).fit(X, Y)\n",
    "    X_new = select_k_best.transform(X)\n",
    "\n",
    "    # Perform grid search to find the best estimator for this feature set\n",
    "    svm = SVC(random_state=RANDOM_STATE)\n",
    "    clf = GridSearchCV(estimator=svm, param_grid=GS_PARAMETERS, refit=False)\n",
    "    clf.fit(X_new, Y)\n",
    "    best_estimator = SVC(**clf.best_params_, random_state=RANDOM_STATE)\n",
    "\n",
    "    index_name = \"{}_features\".format(n_features)\n",
    "    selected_features = select_k_best.get_feature_names_out(input_features=df_X.columns)\n",
    "    evaluation_results[index_name] = {\"scores\": {}, \"features\": selected_features, \"best_estimator\": best_estimator}\n",
    "\n",
    "    print(\"Running {}-CV with features={}, estimator={}\".format(CV_K, selected_features, best_estimator))\n",
    "\n",
    "    # Perform cross-validation in order to evaluate the best parameter found by grid-search on the feature set.\n",
    "    scores = cross_validate(estimator=best_estimator, X=X_new, y=Y, cv=CV_K, scoring=SCORERS)\n",
    "    # Retrieve names of scores for visualization purposes.\n",
    "    for key in scores.keys():\n",
    "        if (\"test_\" in key):\n",
    "            score_name = key.split(\"test_\")[1]\n",
    "            if (score_name not in calculated_scores):\n",
    "                calculated_scores.append(score_name)\n",
    "            evaluation_results[index_name][\"scores\"][score_name] = scores[key]"
   ]
  },
  {
   "cell_type": "markdown",
   "metadata": {},
   "source": [
    "## Visualization"
   ]
  },
  {
   "cell_type": "markdown",
   "metadata": {},
   "source": [
    "### Bar plots to show results from cross-validation"
   ]
  },
  {
   "cell_type": "code",
   "execution_count": 50,
   "metadata": {},
   "outputs": [
    {
     "data": {
      "image/png": "[encoded data removed]",
      "text/plain": [
       "<Figure size 2160x1080 with 6 Axes>"
      ]
     },
     "metadata": {
      "needs_background": "light"
     },
     "output_type": "display_data"
    }
   ],
   "source": [
    "scores_to_plot = {}\n",
    "# Plot settings.\n",
    "plt.rcParams.update({'font.size': 13})\n",
    "plt.figure(figsize=(30,15))\n",
    "\n",
    "for i, score_name in enumerate(calculated_scores):\n",
    "    scores_to_plot[score_name] = {}\n",
    "    for feat_set in evaluation_results.keys():\n",
    "        scores_to_plot[score_name][feat_set] = np.mean(evaluation_results[feat_set][\"scores\"][score_name])\n",
    "    # Plot data.\n",
    "    plt.subplot(2, 3, i+1)\n",
    "    plt.bar(scores_to_plot[score_name].keys(), scores_to_plot[score_name].values())\n",
    "    plt.title(\"{} over feature sets\".format(score_name))\n",
    "    plt.grid()"
   ]
  },
  {
   "cell_type": "markdown",
   "metadata": {},
   "source": [
    "### Table to summarize cross-validation results as well as best estimator for each feature set"
   ]
  },
  {
   "cell_type": "code",
   "execution_count": 51,
   "metadata": {},
   "outputs": [
    {
     "data": {
      "text/html": [
       "<div>\n",
       "<style scoped>\n",
       "    .dataframe tbody tr th:only-of-type {\n",
       "        vertical-align: middle;\n",
       "    }\n",
       "\n",
       "    .dataframe tbody tr th {\n",
       "        vertical-align: top;\n",
       "    }\n",
       "\n",
       "    .dataframe thead th {\n",
       "        text-align: right;\n",
       "    }\n",
       "</style>\n",
       "<table border=\"1\" class=\"dataframe\">\n",
       "  <thead>\n",
       "    <tr style=\"text-align: right;\">\n",
       "      <th></th>\n",
       "      <th>2_features</th>\n",
       "      <th>4_features</th>\n",
       "      <th>6_features</th>\n",
       "      <th>8_features</th>\n",
       "      <th>10_features</th>\n",
       "    </tr>\n",
       "  </thead>\n",
       "  <tbody>\n",
       "    <tr>\n",
       "      <th>roc_auc</th>\n",
       "      <td>0.803622</td>\n",
       "      <td>0.830953</td>\n",
       "      <td>0.811452</td>\n",
       "      <td>0.866617</td>\n",
       "      <td>0.87838</td>\n",
       "    </tr>\n",
       "    <tr>\n",
       "      <th>f1_macro</th>\n",
       "      <td>0.79695</td>\n",
       "      <td>0.79695</td>\n",
       "      <td>0.79695</td>\n",
       "      <td>0.817237</td>\n",
       "      <td>0.803475</td>\n",
       "    </tr>\n",
       "    <tr>\n",
       "      <th>accuracy</th>\n",
       "      <td>0.802174</td>\n",
       "      <td>0.802174</td>\n",
       "      <td>0.802174</td>\n",
       "      <td>0.821739</td>\n",
       "      <td>0.811957</td>\n",
       "    </tr>\n",
       "    <tr>\n",
       "      <th>recall</th>\n",
       "      <td>0.789765</td>\n",
       "      <td>0.789765</td>\n",
       "      <td>0.789765</td>\n",
       "      <td>0.789765</td>\n",
       "      <td>0.795647</td>\n",
       "    </tr>\n",
       "    <tr>\n",
       "      <th>precision</th>\n",
       "      <td>0.858756</td>\n",
       "      <td>0.858756</td>\n",
       "      <td>0.858756</td>\n",
       "      <td>0.894772</td>\n",
       "      <td>0.883573</td>\n",
       "    </tr>\n",
       "    <tr>\n",
       "      <th>jaccard</th>\n",
       "      <td>0.692409</td>\n",
       "      <td>0.692409</td>\n",
       "      <td>0.692409</td>\n",
       "      <td>0.716667</td>\n",
       "      <td>0.708885</td>\n",
       "    </tr>\n",
       "    <tr>\n",
       "      <th>best_estimator</th>\n",
       "      <td>SVC(C=1, kernel='linear', random_state=3030)</td>\n",
       "      <td>SVC(C=1, kernel='linear', random_state=3030)</td>\n",
       "      <td>SVC(C=1, kernel='linear', random_state=3030)</td>\n",
       "      <td>SVC(C=1, kernel='poly', random_state=3030)</td>\n",
       "      <td>SVC(C=10, kernel='linear', random_state=3030)</td>\n",
       "    </tr>\n",
       "  </tbody>\n",
       "</table>\n",
       "</div>"
      ],
      "text/plain": [
       "                                                  2_features  \\\n",
       "roc_auc                                             0.803622   \n",
       "f1_macro                                             0.79695   \n",
       "accuracy                                            0.802174   \n",
       "recall                                              0.789765   \n",
       "precision                                           0.858756   \n",
       "jaccard                                             0.692409   \n",
       "best_estimator  SVC(C=1, kernel='linear', random_state=3030)   \n",
       "\n",
       "                                                  4_features  \\\n",
       "roc_auc                                             0.830953   \n",
       "f1_macro                                             0.79695   \n",
       "accuracy                                            0.802174   \n",
       "recall                                              0.789765   \n",
       "precision                                           0.858756   \n",
       "jaccard                                             0.692409   \n",
       "best_estimator  SVC(C=1, kernel='linear', random_state=3030)   \n",
       "\n",
       "                                                  6_features  \\\n",
       "roc_auc                                             0.811452   \n",
       "f1_macro                                             0.79695   \n",
       "accuracy                                            0.802174   \n",
       "recall                                              0.789765   \n",
       "precision                                           0.858756   \n",
       "jaccard                                             0.692409   \n",
       "best_estimator  SVC(C=1, kernel='linear', random_state=3030)   \n",
       "\n",
       "                                                8_features  \\\n",
       "roc_auc                                           0.866617   \n",
       "f1_macro                                          0.817237   \n",
       "accuracy                                          0.821739   \n",
       "recall                                            0.789765   \n",
       "precision                                         0.894772   \n",
       "jaccard                                           0.716667   \n",
       "best_estimator  SVC(C=1, kernel='poly', random_state=3030)   \n",
       "\n",
       "                                                  10_features  \n",
       "roc_auc                                               0.87838  \n",
       "f1_macro                                             0.803475  \n",
       "accuracy                                             0.811957  \n",
       "recall                                               0.795647  \n",
       "precision                                            0.883573  \n",
       "jaccard                                              0.708885  \n",
       "best_estimator  SVC(C=10, kernel='linear', random_state=3030)  "
      ]
     },
     "execution_count": 51,
     "metadata": {},
     "output_type": "execute_result"
    }
   ],
   "source": [
    "feature_set_keys = scores_to_plot[list(scores_to_plot.keys())[0]].keys()\n",
    "rows = []\n",
    "index_names = list(scores_to_plot.keys())\n",
    "index_names.append(\"best_estimator\")\n",
    "\n",
    "# Gather scores by metric.\n",
    "for score in scores_to_plot.keys():\n",
    "    score_averages = []\n",
    "    for feat_set in scores_to_plot[score].keys():\n",
    "        score_averages.append(scores_to_plot[score][feat_set])\n",
    "    rows.append(score_averages)\n",
    "\n",
    "# Supplement rows with the best estimator by feature set.\n",
    "best_estimators = []\n",
    "for feat_set in evaluation_results.keys():\n",
    "    best_estimators.append(evaluation_results[feat_set][\"best_estimator\"])\n",
    "rows.append(best_estimators)\n",
    "\n",
    "pd.DataFrame(data=rows, columns=evaluation_results.keys(), index=index_names)"
   ]
  },
  {
   "cell_type": "markdown",
   "metadata": {},
   "source": [
    "## Conclusion"
   ]
  },
  {
   "cell_type": "markdown",
   "metadata": {},
   "source": [
    "### Best feature set and estimator\n",
    "All feature set/estimator combinations seem to produce very similar metrics, with the exception of the 8-, and 10-feature sets. In these two sets, the 8-feature set slightly outperforms the 10-feature set in all metrics except for in the `ROC_AUC` and `recall` metric, where the differences are also very small. Therefore, the 8-feature set with `C=1` and `kernel='poly'` can be considered to be the most suitable combination of feature set and estimator."
   ]
  }
 ],
 "metadata": {
  "kernelspec": {
   "display_name": "Python 3.10.2 64-bit",
   "language": "python",
   "name": "python3"
  },
  "language_info": {
   "codemirror_mode": {
    "name": "ipython",
    "version": 3
   },
   "file_extension": ".py",
   "mimetype": "text/x-python",
   "name": "python",
   "nbconvert_exporter": "python",
   "pygments_lexer": "ipython3",
   "version": "3.10.7"
  },
  "orig_nbformat": 4,
  "vscode": {
   "interpreter": {
    "hash": "f3677f85b70f9de604df286b456b1e5b1756b616258f01f668e5acb48a46f7c2"
   }
  }
 },
 "nbformat": 4,
 "nbformat_minor": 2
}
